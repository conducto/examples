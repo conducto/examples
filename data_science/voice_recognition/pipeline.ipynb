{
 "cells": [
  {
   "cell_type": "code",
   "execution_count": null,
   "metadata": {
    "collapsed": true
   },
   "outputs": [],
   "source": [
    "import conducto as co\n",
    "import commands"
   ]
  },
  {
   "cell_type": "code",
   "execution_count": null,
   "outputs": [],
   "source": [
    "path = \"/conducto/data/pipeline\"\n",
    "root = co.Serial(image=get_image())\n",
    "root"
   ],
   "metadata": {
    "collapsed": false,
    "pycharm": {
     "name": "#%%\n"
    }
   }
  },
  {
   "cell_type": "code",
   "execution_count": null,
   "outputs": [],
   "source": [
    "# Get data from keras for testing and training\n",
    "root[\"Get Data\"] = co.Exec(commands.get_data, f\"{path}/raw\")\n",
    "\n",
    "# Split it into train/test/validate\n",
    "root[\"Split\"] = co.Exec(\n",
    "    commands.split_data,\n",
    "    input=f\"{path}/raw\",\n",
    "    train=f\"{path}/train\",\n",
    "    test=f\"{path}/test\",\n",
    "    validate=f\"{path}/validate\",\n",
    "    split=[60,20,20]\n",
    ")\n",
    "root"
   ],
   "metadata": {
    "collapsed": false,
    "pycharm": {
     "name": "#%%\n"
    }
   }
  },
  {
   "cell_type": "code",
   "execution_count": null,
   "outputs": [],
   "source": [
    "root[\"Models\"] = co.Parallel()\n",
    "for model in \"pytorch\", \"keras\", \"sklearn\":\n",
    "    model_node = co.Serial()\n",
    "    model_node[\"Fit\"] = co.Exec(commands.fit, data=f\"{path}/train\", model=f\"{path}/{model}\")\n",
    "    model_node[\"Test\"] = co.Exec(commands.test, data=f\"{path}/test\", model=f\"{path}/{model}\", result=f\"{path}/result/{model}\")\n",
    "    root[\"Models\"][model] = model_node\n",
    "\n",
    "root[\"Summary\"] = co.Exec(commands.summarize, results=f\"{path}/result\")\n",
    "root"
   ],
   "metadata": {
    "collapsed": false,
    "pycharm": {
     "name": "#%%\n"
    }
   }
  },
  {
   "cell_type": "code",
   "execution_count": null,
   "outputs": [],
   "source": [
    "root.launch(local=True)\n"
   ],
   "metadata": {
    "collapsed": false,
    "pycharm": {
     "name": "#%%\n"
    }
   }
  }
 ],
 "metadata": {
  "kernelspec": {
   "display_name": "Python 3",
   "language": "python",
   "name": "python3"
  },
  "language_info": {
   "codemirror_mode": {
    "name": "ipython",
    "version": 2
   },
   "file_extension": ".py",
   "mimetype": "text/x-python",
   "name": "python",
   "nbconvert_exporter": "python",
   "pygments_lexer": "ipython2",
   "version": "2.7.6"
  }
 },
 "nbformat": 4,
 "nbformat_minor": 0
}