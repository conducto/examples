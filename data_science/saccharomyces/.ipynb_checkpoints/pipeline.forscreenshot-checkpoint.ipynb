{
 "cells": [
  {
   "cell_type": "code",
   "execution_count": 6,
   "id": "stone-tours",
   "metadata": {},
   "outputs": [
    {
     "data": {
      "text/html": [
       "<style>div.output_area pre {white-space: pre;}</style>"
      ],
      "text/plain": [
       "<IPython.core.display.HTML object>"
      ]
     },
     "metadata": {},
     "output_type": "display_data"
    }
   ],
   "source": [
    "# disable word wrap in outputs (puts long urls out of view)\n",
    "from IPython.core.display import display, HTML\n",
    "display(HTML(\"<style>div.output_area pre {white-space: pre;}</style>\"))"
   ]
  },
  {
   "cell_type": "markdown",
   "id": "quarterly-oklahoma",
   "metadata": {},
   "source": [
    "[Structure the pipeline](https://www.conducto.com/docs/basics/pipeline-structure) with a [`Serial`](https://www.conducto.com/docs/basics/pipeline-structure#serial) node at the root and give it some [`Parallel`](https://www.conducto.com/docs/basics/pipeline-structure#parallel) children."
   ]
  },
  {
   "cell_type": "code",
   "execution_count": 1,
   "id": "chicken-photograph",
   "metadata": {},
   "outputs": [
    {
     "name": "stdout",
     "output_type": "stream",
     "text": [
      "\u001b[1;34m/\u001b[0m\n",
      "├─0 \u001b[1;34mDownload\u001b[0m\n",
      "└─1 \u001b[1;34mProcess\u001b[0m\n"
     ]
    }
   ],
   "source": [
    "import conducto as co\n",
    "\n",
    "root = co.Serial()\n",
    "root[\"Download\"] = co.Parallel()\n",
    "root[\"Process\"] = co.Parallel()\n",
    "print(root.pretty())"
   ]
  },
  {
   "cell_type": "markdown",
   "id": "adopted-craps",
   "metadata": {},
   "source": [
    " `/Process` won't start until `/Download` is complete, but their children will run in parallel.\n",
    " \n",
    "[`Exec`](https://www.conducto.com/docs/basics/pipeline-structure) nodes take shell commands and run them in the environment defined by [`Image`](https://www.conducto.com/docs/basics/images)."
   ]
  },
  {
   "cell_type": "code",
   "execution_count": 2,
   "id": "thrown-purchase",
   "metadata": {},
   "outputs": [
    {
     "name": "stdout",
     "output_type": "stream",
     "text": [
      "\u001b[1;34m/\u001b[0m\n",
      "├─0 \u001b[1;34mDownload\u001b[0m\n",
      "│ ├─ \u001b[1;34ms_cerevisiae\u001b[0m\n",
      "│ │ ├─0 \u001b[1;36mGet\u001b[0m   wget -O /conducto/data/pipeline/s_cerevisiae.fna.gz https://ftp.ncbi.nlm.nih.gov/genomes/all/GCF/000/146/045/GCF_000146045.2_R64/GCF_000146045.2_R64_genomic.fna.gz\n",
      "│ │ └─1 \u001b[1;36mDecompress\u001b[0m   cd /conducto/data/pipeline && gunzip s_cerevisiae.fna.gz\n",
      "│ ├─ \u001b[1;34mb_bruxellensis\u001b[0m\n",
      "│ │ ├─0 \u001b[1;36mGet\u001b[0m   wget -O /conducto/data/pipeline/b_bruxellensis.fna.gz https://ftp.ncbi.nlm.nih.gov/genomes/all/GCA/011/074/885/GCA_011074885.2_ASM1107488v2/GCA_011074885.2_ASM1107488v2_genomic.fna.gz\n",
      "│ │ └─1 \u001b[1;36mDecompress\u001b[0m   cd /conducto/data/pipeline && gunzip b_bruxellensis.fna.gz\n",
      "│ ...\n",
      "└─1 \u001b[1;34mProcess\u001b[0m\n"
     ]
    }
   ],
   "source": [
    "prep_img = co.Image(reqs_packages=[\"wget\", \"gzip\"])\n",
    "\n",
    "for name, url in genomes + genes:\n",
    "    root[\"Download\"][name] = co.Serial(image=prep_img)\n",
    "    root[\"Download\"][name][\"Get\"] = co.Exec(f\"wget -O {data}/{name}.fna.gz {url}\")\n",
    "    root[\"Download\"][name][\"Decompress\"] = co.Exec(f\"cd {data} && gunzip {name}.fna.gz\")\n",
    "print(root.pretty())"
   ]
  },
  {
   "cell_type": "markdown",
   "id": "furnished-multimedia",
   "metadata": {},
   "source": [
    "[`Exec`](https://www.conducto.com/docs/basics/pipeline-structure) nodes can also call functions. For this they need an environment with the current file and its dependencies.  \n",
    "\n",
    "Here it depends on some python packages and [an image from DockerHub](https://hub.docker.com/r/ncbi/blast) which already has the tool that we need."
   ]
  },
  {
   "cell_type": "code",
   "execution_count": 5,
   "id": "divine-verse",
   "metadata": {},
   "outputs": [],
   "source": [
    "root[\"Process\"].image = co.Image(\n",
    "    image=\"ncbi/blast\", copy_dir=\".\", reqs_py=[\"conducto\", \"biopython\"]\n",
    ")\n",
    "\n",
    "def process(target, genes, hits):\n",
    "    pass  # processing code goes here\n",
    "\n",
    "for name, _ in genomes:\n",
    "    root[\"Process\"][name] = co.Exec(process, f\"{data}/{name}.fna\",  f\"{data}/S288C.fna\", f\"{data}/{name}.xml\")"
   ]
  },
  {
   "cell_type": "markdown",
   "id": "spectacular-crest",
   "metadata": {},
   "source": [
    "Finally, we'll add an interactive environment where we can explore the process output.  We give this node extra `cpu` and `mem` for easy exploration."
   ]
  },
  {
   "cell_type": "code",
   "execution_count": 3,
   "id": "brazilian-consultancy",
   "metadata": {},
   "outputs": [
    {
     "name": "stdout",
     "output_type": "stream",
     "text": [
      "\u001b[1;34m/\u001b[0m\n",
      "├─0 \u001b[1;34mDownload\u001b[0m\n",
      "│ ├─ \u001b[1;34ms_cerevisiae\u001b[0m\n",
      "│ ├─ \u001b[1;34mb_bruxellensis\u001b[0m\n",
      "│ ...\n",
      "├─1 \u001b[1;34mProcess\u001b[0m\n",
      "│ ├─ \u001b[1;36ms_cerevisiae\u001b[0m   conducto __conducto_intermediate_path:/home/user/src/conducto/examples/data_science/saccharomyces/pipeline.py:endpath__ process --target=/conducto/data/pipeline/s_cerevisiae.fna --genes=/conducto/data/pipeline/S288C.fna --hits=/conducto/data/pipeline/s_cerevisiae.xml\n",
      "│ ├─ \u001b[1;36mb_bruxellensis\u001b[0m   conducto __conducto_intermediate_path:/home/user/src/conducto/examples/data_science/saccharomyces/pipeline.py:endpath__ process --target=/conducto/data/pipeline/b_bruxellensis.fna --genes=/conducto/data/pipeline/S288C.fna --hits=/conducto/data/pipeline/b_bruxellensis.xml\n",
      "│ ...\n",
      "└─2 \u001b[1;36mAnalyze\u001b[0m   analyze.ipynb\n"
     ]
    }
   ],
   "source": [
    "root[\"Analyze\"] = co.Exec(\"analyze.ipynb\", cpu=8, mem=32)\n",
    "print(root.pretty())"
   ]
  },
  {
   "cell_type": "markdown",
   "id": "substantial-cylinder",
   "metadata": {},
   "source": [
    "When we launch this pipeline, we get a link to the Conducto web app where we can interact with it."
   ]
  },
  {
   "cell_type": "code",
   "execution_count": 5,
   "id": "soviet-reason",
   "metadata": {},
   "outputs": [
    {
     "name": "stdout",
     "output_type": "stream",
     "text": [
      "Starting pipeline sac-cer\n",
      "View at \u001b[1;4mhttps://conducto.com/app/p/sac-cer\u001b[0m\n"
     ]
    }
   ],
   "source": [
    "root._build()"
   ]
  },
  {
   "cell_type": "code",
   "execution_count": null,
   "id": "equipped-myanmar",
   "metadata": {},
   "outputs": [],
   "source": []
  }
 ],
 "metadata": {
  "kernelspec": {
   "display_name": "Python 3",
   "language": "python",
   "name": "python3"
  },
  "language_info": {
   "codemirror_mode": {
    "name": "ipython",
    "version": 3
   },
   "file_extension": ".py",
   "mimetype": "text/x-python",
   "name": "python",
   "nbconvert_exporter": "python",
   "pygments_lexer": "ipython3",
   "version": "3.7.3"
  }
 },
 "nbformat": 4,
 "nbformat_minor": 5
}
