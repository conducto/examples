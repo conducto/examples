{
 "cells": [
  {
   "cell_type": "code",
   "execution_count": 1,
   "id": "minute-importance",
   "metadata": {},
   "outputs": [
    {
     "name": "stdout",
     "output_type": "stream",
     "text": [
      "Requirement already satisfied: conducto in /home/matt/.venv/lib/python3.7/site-packages (0.1.17)\n",
      "Requirement already satisfied: ansiwrap in /home/matt/.venv/lib/python3.7/site-packages (from conducto) (0.8.4)\n",
      "Requirement already satisfied: boto3 in /home/matt/.venv/lib/python3.7/site-packages (from conducto) (1.17.5)\n",
      "Requirement already satisfied: python-dateutil in /home/matt/.venv/lib/python3.7/site-packages (from conducto) (2.8.1)\n",
      "Requirement already satisfied: packaging in /home/matt/.venv/lib/python3.7/site-packages (from conducto) (20.9)\n",
      "Requirement already satisfied: python-jose in /home/matt/.venv/lib/python3.7/site-packages (from conducto) (3.2.0)\n",
      "Requirement already satisfied: websockets in /home/matt/.venv/lib/python3.7/site-packages (from conducto) (8.1)\n",
      "Requirement already satisfied: rich in /home/matt/.venv/lib/python3.7/site-packages (from conducto) (9.10.0)\n",
      "Requirement already satisfied: textwrap3>=0.9.2 in /home/matt/.venv/lib/python3.7/site-packages (from ansiwrap->conducto) (0.9.2)\n",
      "Requirement already satisfied: botocore<1.21.0,>=1.20.5 in /home/matt/.venv/lib/python3.7/site-packages (from boto3->conducto) (1.20.5)\n",
      "Requirement already satisfied: jmespath<1.0.0,>=0.7.1 in /home/matt/.venv/lib/python3.7/site-packages (from boto3->conducto) (0.10.0)\n",
      "Requirement already satisfied: s3transfer<0.4.0,>=0.3.0 in /home/matt/.venv/lib/python3.7/site-packages (from boto3->conducto) (0.3.4)\n",
      "Requirement already satisfied: six>=1.5 in /home/matt/.venv/lib/python3.7/site-packages (from python-dateutil->conducto) (1.15.0)\n",
      "Requirement already satisfied: pyparsing>=2.0.2 in /home/matt/.venv/lib/python3.7/site-packages (from packaging->conducto) (2.4.7)\n",
      "Requirement already satisfied: pyasn1 in /home/matt/.venv/lib/python3.7/site-packages (from python-jose->conducto) (0.4.8)\n",
      "Requirement already satisfied: ecdsa<0.15 in /home/matt/.venv/lib/python3.7/site-packages (from python-jose->conducto) (0.14.1)\n",
      "Requirement already satisfied: rsa in /home/matt/.venv/lib/python3.7/site-packages (from python-jose->conducto) (4.7)\n",
      "Requirement already satisfied: commonmark<0.10.0,>=0.9.0 in /home/matt/.venv/lib/python3.7/site-packages (from rich->conducto) (0.9.1)\n",
      "Requirement already satisfied: pygments<3.0.0,>=2.6.0 in /home/matt/.venv/lib/python3.7/site-packages (from rich->conducto) (2.7.4)\n",
      "Requirement already satisfied: colorama<0.5.0,>=0.4.0 in /home/matt/.venv/lib/python3.7/site-packages (from rich->conducto) (0.4.4)\n",
      "Requirement already satisfied: typing-extensions<4.0.0,>=3.7.4 in /home/matt/.venv/lib/python3.7/site-packages (from rich->conducto) (3.7.4.3)\n",
      "Requirement already satisfied: urllib3<1.27,>=1.25.4 in /home/matt/.venv/lib/python3.7/site-packages (from botocore<1.21.0,>=1.20.5->boto3->conducto) (1.26.3)\n"
     ]
    },
    {
     "data": {
      "text/html": [
       "<style>div.output_area pre {white-space: pre;}</style>"
      ],
      "text/plain": [
       "<IPython.core.display.HTML object>"
      ]
     },
     "metadata": {},
     "output_type": "display_data"
    }
   ],
   "source": [
    "!pip install conducto\n",
    "\n",
    "# some constants for brevity below\n",
    "data = \"/conducto/data/pipeline\"\n",
    "genomes = [(\"s_cerevisiae\",  \"https://ftp.ncbi.nlm.nih.gov/genomes/all/GCF/000/146/045/GCF_000146045.2_R64/GCF_000146045.2_R64_genomic.fna.gz\"),\n",
    "           (\"b_bruxellensis\", \"https://ftp.ncbi.nlm.nih.gov/genomes/all/GCA/011/074/885/GCA_011074885.2_ASM1107488v2/GCA_011074885.2_ASM1107488v2_genomic.fna.gz\"),\n",
    "           (\"z_kombuchaensis\", \"https://ftp.ncbi.nlm.nih.gov/genomes/all/GCA/003/705/955/GCA_003705955.1_ASM370595v1/GCA_003705955.1_ASM370595v1_genomic.fna.gz\"),\n",
    "           (\"d_albidus\", \"https://ftp.ncbi.nlm.nih.gov/genomes/all/GCA/003/707/475/GCA_003707475.1_ASM370747v1/GCA_003707475.1_ASM370747v1_genomic.fna.gz\"),\n",
    "           (\"c_parapsilosos\", \"https://ftp.ncbi.nlm.nih.gov/genomes/all/GCF/000/182/765/GCF_000182765.1_ASM18276v2/GCF_000182765.1_ASM18276v2_genomic.fna.gz\"),\n",
    "           (\"s_bombicola\", \"https://ftp.ncbi.nlm.nih.gov/genomes/all/GCA/001/599/315/GCA_001599315.1_JCM_9596_assembly_v001/GCA_001599315.1_JCM_9596_assembly_v001_genomic.fna.gz\")]\n",
    "\n",
    "genes = [(\"S288C\", \"https://sgd-prod-upload.s3.amazonaws.com/S000208654/orf_coding.20150113.fasta.gz\")]\n",
    "\n",
    "# disable word wrap in outputs (puts long urls out of view)\n",
    "from IPython.core.display import display, HTML\n",
    "display(HTML(\"<style>div.output_area pre {white-space: pre;}</style>\"))"
   ]
  },
  {
   "cell_type": "markdown",
   "id": "quarterly-oklahoma",
   "metadata": {},
   "source": [
    "[Structure the pipeline](https://www.conducto.com/docs/basics/pipeline-structure) with a [`Serial`](https://www.conducto.com/docs/basics/pipeline-structure#serial) node at the root, and give it some [`Parallel`](https://www.conducto.com/docs/basics/pipeline-structure#parallel) children. `/Process` won't start until `/Download` is complete, but their children will run in parallel."
   ]
  },
  {
   "cell_type": "code",
   "execution_count": 2,
   "id": "chicken-photograph",
   "metadata": {},
   "outputs": [
    {
     "name": "stdout",
     "output_type": "stream",
     "text": [
      "\u001b[1;34m/\u001b[0m\n",
      "├─0 \u001b[1;34mDownload\u001b[0m\n",
      "└─1 \u001b[1;34mProcess\u001b[0m\n"
     ]
    }
   ],
   "source": [
    "import conducto as co\n",
    "root = co.Serial()\n",
    "root[\"Download\"] = co.Parallel()\n",
    "root[\"Process\"] = co.Parallel()\n",
    "print(root.pretty())"
   ]
  },
  {
   "cell_type": "markdown",
   "id": "adopted-craps",
   "metadata": {},
   "source": [
    "[`Exec`](https://www.conducto.com/docs/basics/pipeline-structure) nodes take shell commands and run them in the environment defined by [`Image`](https://www.conducto.com/docs/basics/images)."
   ]
  },
  {
   "cell_type": "code",
   "execution_count": 3,
   "id": "thrown-purchase",
   "metadata": {},
   "outputs": [
    {
     "name": "stdout",
     "output_type": "stream",
     "text": [
      "\u001b[1;34m/\u001b[0m\n",
      "├─0 \u001b[1;34mDownload\u001b[0m\n",
      "│ ├─ \u001b[1;34ms_cerevisiae\u001b[0m\n",
      "│ │ ├─0 \u001b[1;36mGet\u001b[0m   wget -O /conducto/data/pipeline/s_cerevisiae.fna.gz https://ftp.ncbi.nlm.nih.gov/genomes/all/GCF/000/146/045/GCF_000146045.2_R64/GCF_000146045.2_R64_genomic.fna.gz\n",
      "│ │ └─1 \u001b[1;36mDecompress\u001b[0m   cd /conducto/data/pipeline && gunzip s_cerevisiae.fna.gz\n",
      "│ ├─ \u001b[1;34mb_bruxellensis\u001b[0m\n",
      "│ │ ├─0 \u001b[1;36mGet\u001b[0m   wget -O /conducto/data/pipeline/b_bruxellensis.fna.gz https://ftp.ncbi.nlm.nih.gov/genomes/all/GCA/011/074/885/GCA_011074885.2_ASM1107488v2/GCA_011074885.2_ASM1107488v2_genomic.fna.gz\n",
      "│ │ └─1 \u001b[1;36mDecompress\u001b[0m   cd /conducto/data/pipeline && gunzip b_bruxellensis.fna.gz\n",
      "│ ├─ \u001b[1;34mz_kombuchaensis\u001b[0m\n",
      "│ │ ├─0 \u001b[1;36mGet\u001b[0m   wget -O /conducto/data/pipeline/z_kombuchaensis.fna.gz https://ftp.ncbi.nlm.nih.gov/genomes/all/GCA/003/705/955/GCA_003705955.1_ASM370595v1/GCA_003705955.1_ASM370595v1_genomic.fna.gz\n",
      "│ │ └─1 \u001b[1;36mDecompress\u001b[0m   cd /conducto/data/pipeline && gunzip z_kombuchaensis.fna.gz\n",
      "│ ├─ \u001b[1;34md_albidus\u001b[0m\n",
      "│ │ ├─0 \u001b[1;36mGet\u001b[0m   wget -O /conducto/data/pipeline/d_albidus.fna.gz https://ftp.ncbi.nlm.nih.gov/genomes/all/GCA/003/707/475/GCA_003707475.1_ASM370747v1/GCA_003707475.1_ASM370747v1_genomic.fna.gz\n",
      "│ │ └─1 \u001b[1;36mDecompress\u001b[0m   cd /conducto/data/pipeline && gunzip d_albidus.fna.gz\n",
      "│ ├─ \u001b[1;34mc_parapsilosos\u001b[0m\n",
      "│ │ ├─0 \u001b[1;36mGet\u001b[0m   wget -O /conducto/data/pipeline/c_parapsilosos.fna.gz https://ftp.ncbi.nlm.nih.gov/genomes/all/GCF/000/182/765/GCF_000182765.1_ASM18276v2/GCF_000182765.1_ASM18276v2_genomic.fna.gz\n",
      "│ │ └─1 \u001b[1;36mDecompress\u001b[0m   cd /conducto/data/pipeline && gunzip c_parapsilosos.fna.gz\n",
      "│ ├─ \u001b[1;34ms_bombicola\u001b[0m\n",
      "│ │ ├─0 \u001b[1;36mGet\u001b[0m   wget -O /conducto/data/pipeline/s_bombicola.fna.gz https://ftp.ncbi.nlm.nih.gov/genomes/all/GCA/001/599/315/GCA_001599315.1_JCM_9596_assembly_v001/GCA_001599315.1_JCM_9596_assembly_v001_genomic.fna.gz\n",
      "│ │ └─1 \u001b[1;36mDecompress\u001b[0m   cd /conducto/data/pipeline && gunzip s_bombicola.fna.gz\n",
      "│ └─ \u001b[1;34mS288C\u001b[0m\n",
      "│   ├─0 \u001b[1;36mGet\u001b[0m   wget -O /conducto/data/pipeline/S288C.fna.gz https://sgd-prod-upload.s3.amazonaws.com/S000208654/orf_coding.20150113.fasta.gz\n",
      "│   └─1 \u001b[1;36mDecompress\u001b[0m   cd /conducto/data/pipeline && gunzip S288C.fna.gz\n",
      "└─1 \u001b[1;34mProcess\u001b[0m\n"
     ]
    }
   ],
   "source": [
    "prep_img = co.Image(reqs_packages=[\"wget\", \"gzip\"])\n",
    "for name, url in genomes + genes:\n",
    "    root[\"Download\"][name] = co.Serial(image=prep_img)\n",
    "    root[\"Download\"][name][\"Get\"] = co.Exec(f\"wget -O {data}/{name}.fna.gz {url}\")\n",
    "    root[\"Download\"][name][\"Decompress\"] = co.Exec(f\"cd {data} && gunzip {name}.fna.gz\")\n",
    "print(root.pretty())"
   ]
  },
  {
   "cell_type": "markdown",
   "id": "furnished-multimedia",
   "metadata": {},
   "source": [
    "[`Exec`](https://www.conducto.com/docs/basics/pipeline-structure) nodes can also call functions. For this they need an environment with the current file and its dependencies.  \n",
    "\n",
    "In this case it depends oni some python packages and [an image from DockerHub](https://hub.docker.com/r/ncbi/blast) which already has the tool that we need."
   ]
  },
  {
   "cell_type": "code",
   "execution_count": 4,
   "id": "divine-verse",
   "metadata": {},
   "outputs": [],
   "source": [
    "root[\"Process\"].image = co.Image(image=\"ncbi/blast\",\n",
    "                                 copy_dir=\".\",\n",
    "                                 reqs_py=[\"conducto\", \"biopython\"])\n",
    "\n",
    "def process(target, genes, hits):\n",
    "    from Bio.Blast.Applications import (\n",
    "        NcbiblastnCommandline as blastn,\n",
    "        NcbimakeblastdbCommandline as makedb,\n",
    "    )\n",
    "    makedb(dbtype=\"nucl\", input_file=target, out=\"tmp\")()\n",
    "    blastn(query=genes, outfmt=5, db=\"tmp\", out=hits)()\n",
    "    \n",
    "from pipeline import process  # hack\n",
    "\n",
    "for name, _ in genomes:\n",
    "    root[\"Process\"][name] = co.Exec(process,\n",
    "                                    f\"{data}/{name}.fna\", \n",
    "                                    f\"{data}/S288C.fna\",\n",
    "                                    f\"{data}/{name}.xml\")"
   ]
  },
  {
   "cell_type": "markdown",
   "id": "spectacular-crest",
   "metadata": {},
   "source": [
    "Finally, we'll add an interactive environment where we can explore the process output.  We give this node extra `cpu` and `mem` for easy exploration."
   ]
  },
  {
   "cell_type": "code",
   "execution_count": 5,
   "id": "brazilian-consultancy",
   "metadata": {},
   "outputs": [
    {
     "name": "stdout",
     "output_type": "stream",
     "text": [
      "\u001b[1;34m/\u001b[0m\n",
      "├─0 \u001b[1;34mDownload\u001b[0m\n",
      "│ ├─ \u001b[1;34ms_cerevisiae\u001b[0m\n",
      "│ │ ├─0 \u001b[1;36mGet\u001b[0m   wget -O /conducto/data/pipeline/s_cerevisiae.fna.gz https://ftp.ncbi.nlm.nih.gov/genomes/all/GCF/000/146/045/GCF_000146045.2_R64/GCF_000146045.2_R64_genomic.fna.gz\n",
      "│ │ └─1 \u001b[1;36mDecompress\u001b[0m   cd /conducto/data/pipeline && gunzip s_cerevisiae.fna.gz\n",
      "│ ├─ \u001b[1;34mb_bruxellensis\u001b[0m\n",
      "│ │ ├─0 \u001b[1;36mGet\u001b[0m   wget -O /conducto/data/pipeline/b_bruxellensis.fna.gz https://ftp.ncbi.nlm.nih.gov/genomes/all/GCA/011/074/885/GCA_011074885.2_ASM1107488v2/GCA_011074885.2_ASM1107488v2_genomic.fna.gz\n",
      "│ │ └─1 \u001b[1;36mDecompress\u001b[0m   cd /conducto/data/pipeline && gunzip b_bruxellensis.fna.gz\n",
      "│ ├─ \u001b[1;34mz_kombuchaensis\u001b[0m\n",
      "│ │ ├─0 \u001b[1;36mGet\u001b[0m   wget -O /conducto/data/pipeline/z_kombuchaensis.fna.gz https://ftp.ncbi.nlm.nih.gov/genomes/all/GCA/003/705/955/GCA_003705955.1_ASM370595v1/GCA_003705955.1_ASM370595v1_genomic.fna.gz\n",
      "│ │ └─1 \u001b[1;36mDecompress\u001b[0m   cd /conducto/data/pipeline && gunzip z_kombuchaensis.fna.gz\n",
      "│ ├─ \u001b[1;34md_albidus\u001b[0m\n",
      "│ │ ├─0 \u001b[1;36mGet\u001b[0m   wget -O /conducto/data/pipeline/d_albidus.fna.gz https://ftp.ncbi.nlm.nih.gov/genomes/all/GCA/003/707/475/GCA_003707475.1_ASM370747v1/GCA_003707475.1_ASM370747v1_genomic.fna.gz\n",
      "│ │ └─1 \u001b[1;36mDecompress\u001b[0m   cd /conducto/data/pipeline && gunzip d_albidus.fna.gz\n",
      "│ ├─ \u001b[1;34mc_parapsilosos\u001b[0m\n",
      "│ │ ├─0 \u001b[1;36mGet\u001b[0m   wget -O /conducto/data/pipeline/c_parapsilosos.fna.gz https://ftp.ncbi.nlm.nih.gov/genomes/all/GCF/000/182/765/GCF_000182765.1_ASM18276v2/GCF_000182765.1_ASM18276v2_genomic.fna.gz\n",
      "│ │ └─1 \u001b[1;36mDecompress\u001b[0m   cd /conducto/data/pipeline && gunzip c_parapsilosos.fna.gz\n",
      "│ ├─ \u001b[1;34ms_bombicola\u001b[0m\n",
      "│ │ ├─0 \u001b[1;36mGet\u001b[0m   wget -O /conducto/data/pipeline/s_bombicola.fna.gz https://ftp.ncbi.nlm.nih.gov/genomes/all/GCA/001/599/315/GCA_001599315.1_JCM_9596_assembly_v001/GCA_001599315.1_JCM_9596_assembly_v001_genomic.fna.gz\n",
      "│ │ └─1 \u001b[1;36mDecompress\u001b[0m   cd /conducto/data/pipeline && gunzip s_bombicola.fna.gz\n",
      "│ └─ \u001b[1;34mS288C\u001b[0m\n",
      "│   ├─0 \u001b[1;36mGet\u001b[0m   wget -O /conducto/data/pipeline/S288C.fna.gz https://sgd-prod-upload.s3.amazonaws.com/S000208654/orf_coding.20150113.fasta.gz\n",
      "│   └─1 \u001b[1;36mDecompress\u001b[0m   cd /conducto/data/pipeline && gunzip S288C.fna.gz\n",
      "├─1 \u001b[1;34mProcess\u001b[0m\n",
      "│ ├─ \u001b[1;36ms_cerevisiae\u001b[0m   conducto __conducto_intermediate_path:/home/matt/src/conducto/examples/data_science/saccharomyces/pipeline.py:endpath__ process --target=/conducto/data/pipeline/s_cerevisiae.fna --genes=/conducto/data/pipeline/S288C.fna --hits=/conducto/data/pipeline/s_cerevisiae.xml\n",
      "│ ├─ \u001b[1;36mb_bruxellensis\u001b[0m   conducto __conducto_intermediate_path:/home/matt/src/conducto/examples/data_science/saccharomyces/pipeline.py:endpath__ process --target=/conducto/data/pipeline/b_bruxellensis.fna --genes=/conducto/data/pipeline/S288C.fna --hits=/conducto/data/pipeline/b_bruxellensis.xml\n",
      "│ ├─ \u001b[1;36mz_kombuchaensis\u001b[0m   conducto __conducto_intermediate_path:/home/matt/src/conducto/examples/data_science/saccharomyces/pipeline.py:endpath__ process --target=/conducto/data/pipeline/z_kombuchaensis.fna --genes=/conducto/data/pipeline/S288C.fna --hits=/conducto/data/pipeline/z_kombuchaensis.xml\n",
      "│ ├─ \u001b[1;36md_albidus\u001b[0m   conducto __conducto_intermediate_path:/home/matt/src/conducto/examples/data_science/saccharomyces/pipeline.py:endpath__ process --target=/conducto/data/pipeline/d_albidus.fna --genes=/conducto/data/pipeline/S288C.fna --hits=/conducto/data/pipeline/d_albidus.xml\n",
      "│ ├─ \u001b[1;36mc_parapsilosos\u001b[0m   conducto __conducto_intermediate_path:/home/matt/src/conducto/examples/data_science/saccharomyces/pipeline.py:endpath__ process --target=/conducto/data/pipeline/c_parapsilosos.fna --genes=/conducto/data/pipeline/S288C.fna --hits=/conducto/data/pipeline/c_parapsilosos.xml\n",
      "│ └─ \u001b[1;36ms_bombicola\u001b[0m   conducto __conducto_intermediate_path:/home/matt/src/conducto/examples/data_science/saccharomyces/pipeline.py:endpath__ process --target=/conducto/data/pipeline/s_bombicola.fna --genes=/conducto/data/pipeline/S288C.fna --hits=/conducto/data/pipeline/s_bombicola.xml\n",
      "└─2 \u001b[1;36mAnalyze\u001b[0m   analyze.ipynb\n"
     ]
    }
   ],
   "source": [
    "root[\"Analyze\"] = co.Exec(\"analyze.ipynb\", cpu=8, mem=32)\n",
    "print(root.pretty())"
   ]
  },
  {
   "cell_type": "markdown",
   "id": "substantial-cylinder",
   "metadata": {},
   "source": [
    "When we launch this pipeline, we get a link to the Conducto web app where we can interact with it."
   ]
  },
  {
   "cell_type": "code",
   "execution_count": 6,
   "id": "soviet-reason",
   "metadata": {},
   "outputs": [
    {
     "name": "stdout",
     "output_type": "stream",
     "text": [
      "Starting pipeline sbw-oox [Sun Feb 28 22:22:19 2021]\n",
      "View at \u001b[1;4mhttps://test.conducto.io/app/p/sbw-oox\u001b[0m\n"
     ]
    }
   ],
   "source": [
    "root._build()"
   ]
  },
  {
   "cell_type": "code",
   "execution_count": null,
   "id": "equipped-myanmar",
   "metadata": {},
   "outputs": [],
   "source": []
  }
 ],
 "metadata": {
  "kernelspec": {
   "display_name": "Python 3",
   "language": "python",
   "name": "python3"
  },
  "language_info": {
   "codemirror_mode": {
    "name": "ipython",
    "version": 3
   },
   "file_extension": ".py",
   "mimetype": "text/x-python",
   "name": "python",
   "nbconvert_exporter": "python",
   "pygments_lexer": "ipython3",
   "version": "3.7.3"
  }
 },
 "nbformat": 4,
 "nbformat_minor": 5
}
