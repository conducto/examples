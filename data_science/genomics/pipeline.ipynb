{
 "cells": [
  {
   "cell_type": "code",
   "execution_count": 1,
   "metadata": {},
   "outputs": [],
   "source": [
    "import conducto as co\n",
    "import commands"
   ]
  },
  {
   "cell_type": "code",
   "execution_count": 2,
   "metadata": {
    "jupyter": {
     "source_hidden": true
    }
   },
   "outputs": [],
   "source": [
    "RAW = \"/conducto/data/user/examples/genomics\"\n",
    "DIR = \"/conducto/data/pipeline\"\n",
    "\n",
    "GET_DATA_CMD = f\"\"\"\n",
    "set -ex\n",
    "\n",
    "DIR={RAW}\n",
    "if [[ ! -d \"$DIR/genes.tsv\" ]]; then \n",
    "    cd /tmp\n",
    "    wget http://cf.10xgenomics.com/samples/cell-exp/1.1.0/pbmc3k/pbmc3k_filtered_gene_bc_matrices.tar.gz -O data.tar.gz\n",
    "    tar -xzvf data.tar.gz\n",
    "    mkdir -p $DIR\n",
    "    cp -prv filtered_gene_bc_matrices/hg19/* $DIR\n",
    "else\n",
    "    echo \"Data already downloaded\"\n",
    "    find $DIR\n",
    "fi\n",
    "\"\"\"\n",
    "\n",
    "img = co.Image(\n",
    "    \"python:3.8-slim\",\n",
    "    copy_dir=\".\",\n",
    "    install_packages=[\"wget\"],\n",
    "    install_pip=[\"conducto\", \"numpy\", \"pandas\", \"scanpy\", \"ipdb\", \"leidenalg\", \"tabulate\"]\n",
    ")"
   ]
  },
  {
   "cell_type": "code",
   "execution_count": 3,
   "metadata": {
    "jupyter": {
     "source_hidden": true
    }
   },
   "outputs": [
    {
     "data": {
      "text/html": [
       "<style>\n",
       ".jp-OutputArea-output pre {\n",
       "    white-space: pre;\n",
       "}\n",
       "</style>\n"
      ],
      "text/plain": [
       "<IPython.core.display.HTML object>"
      ]
     },
     "metadata": {},
     "output_type": "display_data"
    }
   ],
   "source": [
    "%%html\n",
    "<style>\n",
    ".jp-OutputArea-output pre {\n",
    "    white-space: pre;\n",
    "}\n",
    "</style>"
   ]
  },
  {
   "cell_type": "code",
   "execution_count": 8,
   "metadata": {},
   "outputs": [
    {
     "data": {
      "text/plain": [
       "\u001b[1;34m/\u001b[0m"
      ]
     },
     "execution_count": 8,
     "metadata": {},
     "output_type": "execute_result"
    }
   ],
   "source": [
    "root = co.Serial(title=\"PBMC3K pipeline\", image=img, env={\"PYTHONBREAKPOINT\":\"ipdb.set_trace\"})\n",
    "root"
   ]
  },
  {
   "cell_type": "code",
   "execution_count": 9,
   "metadata": {},
   "outputs": [
    {
     "data": {
      "text/plain": [
       "\u001b[1;34m/\u001b[0m\n",
       "├─0 \u001b[1;36mDownload\u001b[0m   set -ex\\n\\nDIR=/conducto/data/user/examples/genomics\\nif [[ ! -d \"$DIR/genes.tsv\" ]]; then \\n    cd /tmp\\n    wget http://cf.10xgenomics.com/samples/cell-exp/1.1.0/pbmc3k/pbmc3k_filtered_gene_bc_matrices.tar.gz -O data.tar.gz\\n    tar -xzvf data.tar.gz\\n    mkdir -p $DIR\\n    cp -prv filtered_gene_bc_matrices/hg19/* $DIR\\nelse\\n    echo \"Data already downloaded\"\\n    find $DIR\\nfi\n",
       "├─1 \u001b[1;36mPreprocess\u001b[0m   conducto commands.py preprocess --in_path=/conducto/data/user/examples/genomics --out_path=/conducto/data/pipeline/processed.h5ad\n",
       "├─2 \u001b[1;36mPCA\u001b[0m   conducto commands.py pca --in_path=/conducto/data/pipeline/processed.h5ad --out_path=/conducto/data/pipeline/pca.h5ad\n",
       "└─3 \u001b[1;36mNeighborhood\u001b[0m   conducto commands.py neighborhood --in_path=/conducto/data/pipeline/pca.h5ad --out_path=/conducto/data/pipeline/neighborhood.h5ad"
      ]
     },
     "execution_count": 9,
     "metadata": {},
     "output_type": "execute_result"
    }
   ],
   "source": [
    "root[\"Download\"] = co.Exec(GET_DATA_CMD)\n",
    "root[\"Preprocess\"] = co.Exec(commands.preprocess, RAW, f\"{DIR}/processed.h5ad\")\n",
    "root[\"PCA\"] = co.Exec(commands.pca, f\"{DIR}/processed.h5ad\", f\"{DIR}/pca.h5ad\")\n",
    "root[\"Neighborhood\"] = co.Exec(commands.neighborhood, f\"{DIR}/pca.h5ad\", f\"{DIR}/neighborhood.h5ad\")\n",
    "root"
   ]
  },
  {
   "cell_type": "code",
   "execution_count": 10,
   "metadata": {},
   "outputs": [
    {
     "data": {
      "text/plain": [
       "\u001b[1;34m/\u001b[0m\n",
       "├─0 \u001b[1;36mDownload\u001b[0m   set -ex\\n\\nDIR=/conducto/data/user/examples/genomics\\nif [[ ! -d \"$DIR/genes.tsv\" ]]; then \\n    cd /tmp\\n    wget http://cf.10xgenomics.com/samples/cell-exp/1.1.0/pbmc3k/pbmc3k_filtered_gene_bc_matrices.tar.gz -O data.tar.gz\\n    tar -xzvf data.tar.gz\\n    mkdir -p $DIR\\n    cp -prv filtered_gene_bc_matrices/hg19/* $DIR\\nelse\\n    echo \"Data already downloaded\"\\n    find $DIR\\nfi\n",
       "├─1 \u001b[1;36mPreprocess\u001b[0m   conducto commands.py preprocess --in_path=/conducto/data/user/examples/genomics --out_path=/conducto/data/pipeline/processed.h5ad\n",
       "├─2 \u001b[1;36mPCA\u001b[0m   conducto commands.py pca --in_path=/conducto/data/pipeline/processed.h5ad --out_path=/conducto/data/pipeline/pca.h5ad\n",
       "├─3 \u001b[1;36mNeighborhood\u001b[0m   conducto commands.py neighborhood --in_path=/conducto/data/pipeline/pca.h5ad --out_path=/conducto/data/pipeline/neighborhood.h5ad\n",
       "└─4 \u001b[1;34mMarkers\u001b[0m\n",
       "  ├─ \u001b[1;36mt-test\u001b[0m   conducto commands.py marker --method=t-test --in_path=/conducto/data/pipeline/neighborhood.h5ad --out_path=/conducto/data/pipeline/result-t-test.h5ad\n",
       "  ├─ \u001b[1;36mwilcoxon\u001b[0m   conducto commands.py marker --method=wilcoxon --in_path=/conducto/data/pipeline/neighborhood.h5ad --out_path=/conducto/data/pipeline/result-wilcoxon.h5ad\n",
       "  └─ \u001b[1;36mlogreg\u001b[0m   conducto commands.py marker --method=logreg --in_path=/conducto/data/pipeline/neighborhood.h5ad --out_path=/conducto/data/pipeline/result-logreg.h5ad"
      ]
     },
     "execution_count": 10,
     "metadata": {},
     "output_type": "execute_result"
    }
   ],
   "source": [
    "markers = co.Parallel()\n",
    "for method in \"t-test\", \"wilcoxon\", \"logreg\":\n",
    "    markers[method] = co.Exec(commands.marker, method, f\"{DIR}/neighborhood.h5ad\", f\"{DIR}/result-{method}.h5ad\")\n",
    "root[\"Markers\"] = markers\n",
    "root"
   ]
  },
  {
   "cell_type": "code",
   "execution_count": 7,
   "metadata": {},
   "outputs": [],
   "source": [
    "#root.launch()"
   ]
  },
  {
   "cell_type": "code",
   "execution_count": null,
   "metadata": {},
   "outputs": [],
   "source": []
  }
 ],
 "metadata": {
  "kernelspec": {
   "display_name": "Python 3",
   "language": "python",
   "name": "python3"
  },
  "language_info": {
   "codemirror_mode": {
    "name": "ipython",
    "version": 3
   },
   "file_extension": ".py",
   "mimetype": "text/x-python",
   "name": "python",
   "nbconvert_exporter": "python",
   "pygments_lexer": "ipython3",
   "version": "3.7.8"
  }
 },
 "nbformat": 4,
 "nbformat_minor": 4
}
