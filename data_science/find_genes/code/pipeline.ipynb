{
 "cells": [
  {
   "cell_type": "code",
   "execution_count": 1,
   "id": "stock-print",
   "metadata": {},
   "outputs": [],
   "source": [
    "import json\n",
    "import conducto as co\n",
    "from my_experiment import process_data, notebook_pkgs\n",
    "data_dir = \"/conducto/data/pipeline\""
   ]
  },
  {
   "cell_type": "markdown",
   "id": "frequent-northern",
   "metadata": {},
   "source": [
    "Make the root node of the tree.  It's a [Serial](/docs/basics/pipeline-structure#node-types) node, so Conducto runs its children one after another."
   ]
  },
  {
   "cell_type": "code",
   "execution_count": 2,
   "id": "compliant-waters",
   "metadata": {},
   "outputs": [
    {
     "data": {
      "text/plain": [
       "\u001b[1;34m/\u001b[0m"
      ]
     },
     "execution_count": 2,
     "metadata": {},
     "output_type": "execute_result"
    }
   ],
   "source": [
    "root = co.Serial()\n",
    "root.describe()['id']"
   ]
  },
  {
   "cell_type": "markdown",
   "id": "activated-yahoo",
   "metadata": {},
   "source": [
    "[Image](/docs/basics/Images) objects devine environments."
   ]
  },
  {
   "cell_type": "code",
   "execution_count": 3,
   "id": "annoying-iraqi",
   "metadata": {},
   "outputs": [],
   "source": [
    "download_img = co.Image(install_packages=[\"wget\"])"
   ]
  },
  {
   "cell_type": "markdown",
   "id": "fiscal-occasions",
   "metadata": {},
   "source": [
    "[Exec](/docs/basics/pipeline-structure#node-types) nodes run commands or call functions in those environments."
   ]
  },
  {
   "cell_type": "code",
   "execution_count": 4,
   "id": "coupled-wallace",
   "metadata": {},
   "outputs": [
    {
     "data": {
      "text/plain": [
       "\u001b[1;34m/\u001b[0m\n",
       "└─0 \u001b[1;36mDownload\u001b[0m   wget -NcP {data_dir} https://github.com/conducto/examples/raw/drafts/blast/data_science/find_genes/data/genedata.zip"
      ]
     },
     "execution_count": 4,
     "metadata": {},
     "output_type": "execute_result"
    }
   ],
   "source": [
    "root[\"Download\"] = co.Exec(\"wget -NcP {data_dir} https://github.com/conducto/examples/raw/drafts/blast/data_science/find_genes/data/genedata.zip\",\n",
    "                           image=download_img)\n",
    "root.describe()['id']"
   ]
  },
  {
   "cell_type": "markdown",
   "id": "secret-pottery",
   "metadata": {},
   "source": [
    "The Process and Analyze nodes share an image.  To build it:\n",
    " - start with a premade image from dockerhub\n",
    " - include the local directory so we can reference its other files\n",
    " - pip install their dependencies"
   ]
  },
  {
   "cell_type": "code",
   "execution_count": 5,
   "id": "opening-timothy",
   "metadata": {},
   "outputs": [],
   "source": [
    "bio_img = co.Image(\"ncbi/blast\",\n",
    "                   copy_dir=\".\",\n",
    "                   install_pip=[\"pandas\", \"biopython\"] + notebook_pkgs)"
   ]
  },
  {
   "cell_type": "markdown",
   "id": "compatible-sleeve",
   "metadata": {},
   "source": [
    "This node makes three calls to my_experiment.process_data(), each time with different parameters. "
   ]
  },
  {
   "cell_type": "code",
   "execution_count": 6,
   "id": "physical-scout",
   "metadata": {},
   "outputs": [
    {
     "data": {
      "text/plain": [
       "\u001b[1;34m/\u001b[0m\n",
       "├─0 \u001b[1;36mDownload\u001b[0m   wget -NcP {data_dir} https://github.com/conducto/examples/raw/drafts/blast/data_science/find_genes/data/genedata.zip\n",
       "└─1 \u001b[1;34mProcess\u001b[0m\n",
       "  ├─ \u001b[1;36m1\u001b[0m   conducto my_experiment.py process_data --dataset=1 --data_dir=/conducto/data/pipeline\n",
       "  ├─ \u001b[1;36m2\u001b[0m   conducto my_experiment.py process_data --dataset=2 --data_dir=/conducto/data/pipeline\n",
       "  └─ \u001b[1;36m3\u001b[0m   conducto my_experiment.py process_data --dataset=3 --data_dir=/conducto/data/pipeline"
      ]
     },
     "execution_count": 6,
     "metadata": {},
     "output_type": "execute_result"
    }
   ],
   "source": [
    "process = co.Parallel(image=bio_img)\n",
    "process[\"1\"] = co.Exec(process_data, dataset=1, data_dir=data_dir)\n",
    "process[\"2\"] = co.Exec(process_data, dataset=2, data_dir=data_dir)\n",
    "process[\"3\"] = co.Exec(process_data, dataset=3, data_dir=data_dir)\n",
    "root[\"Process\"] = process\n",
    "\n",
    "root.describe()['id']"
   ]
  },
  {
   "cell_type": "markdown",
   "id": "remarkable-hardware",
   "metadata": {},
   "source": [
    "Once all our data is processed and ready to go, make a node to analyze it interactively.  Notebook nodes that run to completion can be viewed like reports.  Or you can leave them running and explore the data with code."
   ]
  },
  {
   "cell_type": "code",
   "execution_count": 7,
   "id": "optimum-seeker",
   "metadata": {},
   "outputs": [],
   "source": [
    "analyze = co.Notebook(\"analyze.ipynb\", dir=data_dir, datasets=json.dumps([1,2,3]))"
   ]
  },
  {
   "cell_type": "markdown",
   "id": "initial-daughter",
   "metadata": {},
   "source": [
    "Add some extra resources for easy exploration."
   ]
  },
  {
   "cell_type": "code",
   "execution_count": 8,
   "id": "sublime-allah",
   "metadata": {},
   "outputs": [
    {
     "ename": "DuplicateImageError",
     "evalue": "happy-butterfree already present with a different definition in this repository",
     "output_type": "error",
     "traceback": [
      "\u001b[0;31m---------------------------------------------------------------------------\u001b[0m",
      "\u001b[0;31mDuplicateImageError\u001b[0m                       Traceback (most recent call last)",
      "\u001b[0;32m<ipython-input-8-ae149f17f438>\u001b[0m in \u001b[0;36m<module>\u001b[0;34m\u001b[0m\n\u001b[1;32m      1\u001b[0m \u001b[0manalyze\u001b[0m\u001b[0;34m.\u001b[0m\u001b[0mset\u001b[0m\u001b[0;34m(\u001b[0m\u001b[0mimage\u001b[0m\u001b[0;34m=\u001b[0m\u001b[0mbio_img\u001b[0m\u001b[0;34m,\u001b[0m \u001b[0mcpu\u001b[0m\u001b[0;34m=\u001b[0m\u001b[0;36m8\u001b[0m\u001b[0;34m,\u001b[0m \u001b[0mmem\u001b[0m\u001b[0;34m=\u001b[0m\u001b[0;36m32\u001b[0m\u001b[0;34m)\u001b[0m\u001b[0;34m\u001b[0m\u001b[0;34m\u001b[0m\u001b[0m\n\u001b[0;32m----> 2\u001b[0;31m \u001b[0mroot\u001b[0m\u001b[0;34m[\u001b[0m\u001b[0;34m\"Analyze\"\u001b[0m\u001b[0;34m]\u001b[0m \u001b[0;34m=\u001b[0m \u001b[0manalyze\u001b[0m\u001b[0;34m\u001b[0m\u001b[0;34m\u001b[0m\u001b[0m\n\u001b[0m\u001b[1;32m      3\u001b[0m \u001b[0;34m\u001b[0m\u001b[0m\n\u001b[1;32m      4\u001b[0m \u001b[0mroot\u001b[0m\u001b[0;34m.\u001b[0m\u001b[0mdescribe\u001b[0m\u001b[0;34m(\u001b[0m\u001b[0;34m)\u001b[0m\u001b[0;34m[\u001b[0m\u001b[0;34m'id'\u001b[0m\u001b[0;34m]\u001b[0m\u001b[0;34m\u001b[0m\u001b[0;34m\u001b[0m\u001b[0m\n",
      "\u001b[0;32m~/src/conducto/super/public/python/conducto/pipeline.py\u001b[0m in \u001b[0;36m__setitem__\u001b[0;34m(self, name, node)\u001b[0m\n\u001b[1;32m    598\u001b[0m         \u001b[0mself\u001b[0m\u001b[0;34m.\u001b[0m\u001b[0mchildren\u001b[0m\u001b[0;34m[\u001b[0m\u001b[0mname\u001b[0m\u001b[0;34m]\u001b[0m \u001b[0;34m=\u001b[0m \u001b[0mnode\u001b[0m\u001b[0;34m\u001b[0m\u001b[0;34m\u001b[0m\u001b[0m\n\u001b[1;32m    599\u001b[0m \u001b[0;34m\u001b[0m\u001b[0m\n\u001b[0;32m--> 600\u001b[0;31m         \u001b[0mself\u001b[0m\u001b[0;34m.\u001b[0m\u001b[0mrepo\u001b[0m\u001b[0;34m.\u001b[0m\u001b[0mmerge\u001b[0m\u001b[0;34m(\u001b[0m\u001b[0mnode\u001b[0m\u001b[0;34m.\u001b[0m\u001b[0mrepo\u001b[0m\u001b[0;34m)\u001b[0m\u001b[0;34m\u001b[0m\u001b[0;34m\u001b[0m\u001b[0m\n\u001b[0m\u001b[1;32m    601\u001b[0m \u001b[0;34m\u001b[0m\u001b[0m\n\u001b[1;32m    602\u001b[0m         \u001b[0mnode\u001b[0m\u001b[0;34m.\u001b[0m\u001b[0mparent\u001b[0m \u001b[0;34m=\u001b[0m \u001b[0mself\u001b[0m\u001b[0;34m\u001b[0m\u001b[0;34m\u001b[0m\u001b[0m\n",
      "\u001b[0;32m~/src/conducto/super/public/python/conducto/image/__init__.py\u001b[0m in \u001b[0;36mmerge\u001b[0;34m(self, repo)\u001b[0m\n\u001b[1;32m     85\u001b[0m             \u001b[0mself\u001b[0m\u001b[0;34m.\u001b[0m\u001b[0mimages\u001b[0m\u001b[0;34m,\u001b[0m \u001b[0mrepo\u001b[0m\u001b[0;34m.\u001b[0m\u001b[0mimages\u001b[0m \u001b[0;34m=\u001b[0m \u001b[0mrepo\u001b[0m\u001b[0;34m.\u001b[0m\u001b[0mimages\u001b[0m\u001b[0;34m,\u001b[0m \u001b[0mself\u001b[0m\u001b[0;34m.\u001b[0m\u001b[0mimages\u001b[0m\u001b[0;34m\u001b[0m\u001b[0;34m\u001b[0m\u001b[0m\n\u001b[1;32m     86\u001b[0m         \u001b[0;32mfor\u001b[0m \u001b[0mimg\u001b[0m \u001b[0;32min\u001b[0m \u001b[0mrepo\u001b[0m\u001b[0;34m.\u001b[0m\u001b[0mimages\u001b[0m\u001b[0;34m.\u001b[0m\u001b[0mvalues\u001b[0m\u001b[0;34m(\u001b[0m\u001b[0;34m)\u001b[0m\u001b[0;34m:\u001b[0m\u001b[0;34m\u001b[0m\u001b[0;34m\u001b[0m\u001b[0m\n\u001b[0;32m---> 87\u001b[0;31m             \u001b[0mself\u001b[0m\u001b[0;34m.\u001b[0m\u001b[0madd\u001b[0m\u001b[0;34m(\u001b[0m\u001b[0mimg\u001b[0m\u001b[0;34m)\u001b[0m\u001b[0;34m\u001b[0m\u001b[0;34m\u001b[0m\u001b[0m\n\u001b[0m\u001b[1;32m     88\u001b[0m \u001b[0;34m\u001b[0m\u001b[0m\n\u001b[1;32m     89\u001b[0m     \u001b[0;32mdef\u001b[0m \u001b[0mfinalize\u001b[0m\u001b[0;34m(\u001b[0m\u001b[0mself\u001b[0m\u001b[0;34m)\u001b[0m\u001b[0;34m:\u001b[0m\u001b[0;34m\u001b[0m\u001b[0;34m\u001b[0m\u001b[0m\n",
      "\u001b[0;32m~/src/conducto/super/public/python/conducto/image/__init__.py\u001b[0m in \u001b[0;36madd\u001b[0;34m(self, image)\u001b[0m\n\u001b[1;32m     76\u001b[0m         \u001b[0;32mif\u001b[0m \u001b[0mimage\u001b[0m\u001b[0;34m.\u001b[0m\u001b[0mname\u001b[0m \u001b[0;32min\u001b[0m \u001b[0mself\u001b[0m\u001b[0;34m.\u001b[0m\u001b[0mimages\u001b[0m \u001b[0;32mand\u001b[0m \u001b[0mself\u001b[0m\u001b[0;34m.\u001b[0m\u001b[0mimages\u001b[0m\u001b[0;34m[\u001b[0m\u001b[0mimage\u001b[0m\u001b[0;34m.\u001b[0m\u001b[0mname\u001b[0m\u001b[0;34m]\u001b[0m \u001b[0;34m!=\u001b[0m \u001b[0mimage\u001b[0m\u001b[0;34m:\u001b[0m\u001b[0;34m\u001b[0m\u001b[0;34m\u001b[0m\u001b[0m\n\u001b[1;32m     77\u001b[0m             raise self.DuplicateImageError(\n\u001b[0;32m---> 78\u001b[0;31m                 \u001b[0;34mf\"{image.name} already present with a different definition in this repository\"\u001b[0m\u001b[0;34m\u001b[0m\u001b[0;34m\u001b[0m\u001b[0m\n\u001b[0m\u001b[1;32m     79\u001b[0m             )\n\u001b[1;32m     80\u001b[0m         \u001b[0mself\u001b[0m\u001b[0;34m.\u001b[0m\u001b[0mimages\u001b[0m\u001b[0;34m[\u001b[0m\u001b[0mimage\u001b[0m\u001b[0;34m.\u001b[0m\u001b[0mname\u001b[0m\u001b[0;34m]\u001b[0m \u001b[0;34m=\u001b[0m \u001b[0mimage\u001b[0m\u001b[0;34m\u001b[0m\u001b[0;34m\u001b[0m\u001b[0m\n",
      "\u001b[0;31mDuplicateImageError\u001b[0m: happy-butterfree already present with a different definition in this repository"
     ]
    }
   ],
   "source": [
    "analyze.set(image=bio_img, cpu=8, mem=32)\n",
    "root[\"Analyze\"] = analyze\n",
    "\n",
    "root.describe()['id']"
   ]
  },
  {
   "cell_type": "markdown",
   "id": "falling-target",
   "metadata": {},
   "source": [
    "This will launch the pipeline and print a link.  The link will take you to the Conducto web app.  From there you can interact with the pipeline."
   ]
  },
  {
   "cell_type": "code",
   "execution_count": null,
   "id": "viral-community",
   "metadata": {},
   "outputs": [],
   "source": [
    "root.launch()"
   ]
  },
  {
   "cell_type": "code",
   "execution_count": null,
   "id": "handy-defeat",
   "metadata": {},
   "outputs": [],
   "source": []
  }
 ],
 "metadata": {
  "kernelspec": {
   "display_name": "Python 3",
   "language": "python",
   "name": "python3"
  },
  "language_info": {
   "codemirror_mode": {
    "name": "ipython",
    "version": 3
   },
   "file_extension": ".py",
   "mimetype": "text/x-python",
   "name": "python",
   "nbconvert_exporter": "python",
   "pygments_lexer": "ipython3",
   "version": "3.7.3"
  }
 },
 "nbformat": 4,
 "nbformat_minor": 5
}
