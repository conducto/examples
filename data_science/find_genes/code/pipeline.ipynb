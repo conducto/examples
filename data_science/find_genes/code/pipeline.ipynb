{
 "cells": [
  {
   "cell_type": "code",
   "execution_count": 14,
   "id": "stock-print",
   "metadata": {},
   "outputs": [],
   "source": [
    "import json\n",
    "import conducto as co\n",
    "from my_experiment import process_data, notebook_pkgs\n",
    "data_dir = \"/conducto/data/pipeline\""
   ]
  },
  {
   "cell_type": "markdown",
   "id": "frequent-northern",
   "metadata": {},
   "source": [
    "Make the root node of the tree.  It's a [Serial](/docs/basics/pipeline-structure#node-types) node, so Conducto runs its children one after another."
   ]
  },
  {
   "cell_type": "code",
   "execution_count": 15,
   "id": "compliant-waters",
   "metadata": {},
   "outputs": [
    {
     "data": {
      "text/plain": [
       "\u001b[1;34m/\u001b[0m"
      ]
     },
     "execution_count": 15,
     "metadata": {},
     "output_type": "execute_result"
    }
   ],
   "source": [
    "root = co.Serial()\n",
    "root.describe()['id']"
   ]
  },
  {
   "cell_type": "markdown",
   "id": "activated-yahoo",
   "metadata": {},
   "source": [
    "[Image](/docs/basics/Images) objects devine environments."
   ]
  },
  {
   "cell_type": "code",
   "execution_count": 16,
   "id": "annoying-iraqi",
   "metadata": {},
   "outputs": [],
   "source": [
    "download_img = co.Image(install_packages=[\"wget\"])"
   ]
  },
  {
   "cell_type": "markdown",
   "id": "fiscal-occasions",
   "metadata": {},
   "source": [
    "[Exec](/docs/basics/pipeline-structure#node-types) nodes run commands or call functions in those environments."
   ]
  },
  {
   "cell_type": "code",
   "execution_count": 17,
   "id": "coupled-wallace",
   "metadata": {},
   "outputs": [
    {
     "data": {
      "text/plain": [
       "\u001b[1;34m/\u001b[0m\n",
       "└─0 \u001b[1;36mDownload\u001b[0m   wget -NcP {data_dir} http://192.168.90.13:8887/genedata.zip"
      ]
     },
     "execution_count": 17,
     "metadata": {},
     "output_type": "execute_result"
    }
   ],
   "source": [
    "root[\"Download\"] = co.Exec(\"wget -NcP {data_dir} http://192.168.90.13:8887/genedata.zip\", \n",
    "                           image=download_img)\n",
    "root.describe()['id']"
   ]
  },
  {
   "cell_type": "markdown",
   "id": "secret-pottery",
   "metadata": {},
   "source": [
    "The Process and Analyze nodes share an image.  To build it:\n",
    " - start with a premade image from dockerhub\n",
    " - include the local directory so we can reference its other files\n",
    " - pip install their dependencies"
   ]
  },
  {
   "cell_type": "code",
   "execution_count": 18,
   "id": "opening-timothy",
   "metadata": {},
   "outputs": [],
   "source": [
    "bio_img = co.Image(\"ncbi/blast\",\n",
    "                   copy_dir=\".\",\n",
    "                   install_pip=[\"pandas\", \"biopython\"] + notebook_pkgs)"
   ]
  },
  {
   "cell_type": "markdown",
   "id": "compatible-sleeve",
   "metadata": {},
   "source": [
    "This node makes three calls to my_experiment.process_data(), each time with different parameters. "
   ]
  },
  {
   "cell_type": "code",
   "execution_count": 19,
   "id": "physical-scout",
   "metadata": {},
   "outputs": [
    {
     "data": {
      "text/plain": [
       "\u001b[1;34m/\u001b[0m\n",
       "├─0 \u001b[1;36mDownload\u001b[0m   wget -NcP {data_dir} http://192.168.90.13:8887/genedata.zip\n",
       "└─1 \u001b[1;34mProcess\u001b[0m\n",
       "  ├─ \u001b[1;36m1\u001b[0m   conducto my_experiment.py process_data --dataset=1 --data_dir=/conducto/data/pipeline\n",
       "  ├─ \u001b[1;36m2\u001b[0m   conducto my_experiment.py process_data --dataset=2 --data_dir=/conducto/data/pipeline\n",
       "  └─ \u001b[1;36m3\u001b[0m   conducto my_experiment.py process_data --dataset=3 --data_dir=/conducto/data/pipeline"
      ]
     },
     "execution_count": 19,
     "metadata": {},
     "output_type": "execute_result"
    }
   ],
   "source": [
    "process = co.Parallel(image=bio_img)\n",
    "process[\"1\"] = co.Exec(process_data, dataset=1, data_dir=data_dir)\n",
    "process[\"2\"] = co.Exec(process_data, dataset=2, data_dir=data_dir)\n",
    "process[\"3\"] = co.Exec(process_data, dataset=3, data_dir=data_dir)\n",
    "root[\"Process\"] = process\n",
    "\n",
    "root.describe()['id']"
   ]
  },
  {
   "cell_type": "markdown",
   "id": "remarkable-hardware",
   "metadata": {},
   "source": [
    "Once all our data is processed and ready to go, make a node to analyze it interactively.  Notebook nodes that run to completion can be viewed like reports.  Or you can leave them running and explore the data with code."
   ]
  },
  {
   "cell_type": "code",
   "execution_count": 22,
   "id": "optimum-seeker",
   "metadata": {},
   "outputs": [],
   "source": [
    "analyze = co.Notebook(\"analyze.ipynb\", dir=data_dir, datasets=json.dumps([1,2,3]))"
   ]
  },
  {
   "cell_type": "markdown",
   "id": "initial-daughter",
   "metadata": {},
   "source": [
    "Add some extra resources for easy exploration."
   ]
  },
  {
   "cell_type": "code",
   "execution_count": 23,
   "id": "sublime-allah",
   "metadata": {},
   "outputs": [
    {
     "ename": "TreeError",
     "evalue": "Adding node Analyze violates the integrity of the pipeline",
     "output_type": "error",
     "traceback": [
      "\u001b[0;31m---------------------------------------------------------------------------\u001b[0m",
      "\u001b[0;31mTreeError\u001b[0m                                 Traceback (most recent call last)",
      "\u001b[0;32m<ipython-input-23-ae149f17f438>\u001b[0m in \u001b[0;36m<module>\u001b[0;34m\u001b[0m\n\u001b[1;32m      1\u001b[0m \u001b[0manalyze\u001b[0m\u001b[0;34m.\u001b[0m\u001b[0mset\u001b[0m\u001b[0;34m(\u001b[0m\u001b[0mimage\u001b[0m\u001b[0;34m=\u001b[0m\u001b[0mbio_img\u001b[0m\u001b[0;34m,\u001b[0m \u001b[0mcpu\u001b[0m\u001b[0;34m=\u001b[0m\u001b[0;36m8\u001b[0m\u001b[0;34m,\u001b[0m \u001b[0mmem\u001b[0m\u001b[0;34m=\u001b[0m\u001b[0;36m32\u001b[0m\u001b[0;34m)\u001b[0m\u001b[0;34m\u001b[0m\u001b[0;34m\u001b[0m\u001b[0m\n\u001b[0;32m----> 2\u001b[0;31m \u001b[0mroot\u001b[0m\u001b[0;34m[\u001b[0m\u001b[0;34m\"Analyze\"\u001b[0m\u001b[0;34m]\u001b[0m \u001b[0;34m=\u001b[0m \u001b[0manalyze\u001b[0m\u001b[0;34m\u001b[0m\u001b[0;34m\u001b[0m\u001b[0m\n\u001b[0m\u001b[1;32m      3\u001b[0m \u001b[0;34m\u001b[0m\u001b[0m\n\u001b[1;32m      4\u001b[0m \u001b[0mroot\u001b[0m\u001b[0;34m.\u001b[0m\u001b[0mdescribe\u001b[0m\u001b[0;34m(\u001b[0m\u001b[0;34m)\u001b[0m\u001b[0;34m[\u001b[0m\u001b[0;34m'id'\u001b[0m\u001b[0;34m]\u001b[0m\u001b[0;34m\u001b[0m\u001b[0;34m\u001b[0m\u001b[0m\n",
      "\u001b[0;32m~/src/conducto/super/public/python/conducto/pipeline.py\u001b[0m in \u001b[0;36m__setitem__\u001b[0;34m(self, name, node)\u001b[0m\n\u001b[1;32m    594\u001b[0m         \u001b[0;32mif\u001b[0m \u001b[0mname\u001b[0m \u001b[0;32min\u001b[0m \u001b[0mself\u001b[0m\u001b[0;34m.\u001b[0m\u001b[0mchildren\u001b[0m \u001b[0;32mor\u001b[0m \u001b[0mnode\u001b[0m\u001b[0;34m.\u001b[0m\u001b[0mroot\u001b[0m \u001b[0;34m==\u001b[0m \u001b[0mself\u001b[0m\u001b[0;34m.\u001b[0m\u001b[0mroot\u001b[0m \u001b[0;32mor\u001b[0m \u001b[0mnode\u001b[0m\u001b[0;34m.\u001b[0m\u001b[0mroot\u001b[0m \u001b[0;34m!=\u001b[0m \u001b[0mnode\u001b[0m\u001b[0;34m:\u001b[0m\u001b[0;34m\u001b[0m\u001b[0;34m\u001b[0m\u001b[0m\n\u001b[1;32m    595\u001b[0m             raise TreeError(\n\u001b[0;32m--> 596\u001b[0;31m                 \u001b[0;34mf\"Adding node {name} violates the integrity of the pipeline\"\u001b[0m\u001b[0;34m\u001b[0m\u001b[0;34m\u001b[0m\u001b[0m\n\u001b[0m\u001b[1;32m    597\u001b[0m             )\n\u001b[1;32m    598\u001b[0m         \u001b[0mself\u001b[0m\u001b[0;34m.\u001b[0m\u001b[0mchildren\u001b[0m\u001b[0;34m[\u001b[0m\u001b[0mname\u001b[0m\u001b[0;34m]\u001b[0m \u001b[0;34m=\u001b[0m \u001b[0mnode\u001b[0m\u001b[0;34m\u001b[0m\u001b[0;34m\u001b[0m\u001b[0m\n",
      "\u001b[0;31mTreeError\u001b[0m: Adding node Analyze violates the integrity of the pipeline"
     ]
    }
   ],
   "source": [
    "analyze.set(image=bio_img, cpu=8, mem=32)\n",
    "root[\"Analyze\"] = analyze\n",
    "\n",
    "root.describe()['id']"
   ]
  },
  {
   "cell_type": "markdown",
   "id": "falling-target",
   "metadata": {},
   "source": [
    "This will launch the pipeline and print a link.  The link will take you to the Conducto web app.  From there you can interact with the pipeline."
   ]
  },
  {
   "cell_type": "code",
   "execution_count": 24,
   "id": "viral-community",
   "metadata": {},
   "outputs": [
    {
     "ename": "ValueError",
     "evalue": "Node references local code but the Image doesn't have enough information to infer the corresponding path inside the container.\nExpected '.copy_dir', '.copy_url' inside a Git directory, or 'path_map'.  Node: /\n  Image: {'name': 'gushy-ferroseed', 'image': 'ncbi/blast', 'dockerfile': None, 'dockerfile_text': None, 'docker_build_args': None, 'docker_auto_workdir': True, 'context': None, 'copy_repo': None, 'copy_dir': '.', 'copy_url': None, 'copy_branch': None, 'install_pip': ['pandas', 'biopython', 'conducto', 'jupyterlab', 'papermill', 'watchdog', 'ipdb', 'black'], 'install_npm': None, 'install_packages': None, 'install_docker': False, 'path_map': None, 'shell': '__auto__', 'instantiation_directory': '', 'reqs_py': ['pandas', 'biopython', 'conducto', 'jupyterlab', 'papermill', 'watchdog', 'ipdb', 'black'], 'reqs_npm': None, 'reqs_packages': None, 'reqs_docker': False}",
     "output_type": "error",
     "traceback": [
      "\u001b[0;31m---------------------------------------------------------------------------\u001b[0m",
      "\u001b[0;31mValueError\u001b[0m                                Traceback (most recent call last)",
      "\u001b[0;32m<ipython-input-24-3f64b64536b6>\u001b[0m in \u001b[0;36m<module>\u001b[0;34m\u001b[0m\n\u001b[0;32m----> 1\u001b[0;31m \u001b[0mroot\u001b[0m\u001b[0;34m.\u001b[0m\u001b[0mlaunch\u001b[0m\u001b[0;34m(\u001b[0m\u001b[0;34m)\u001b[0m\u001b[0;34m\u001b[0m\u001b[0;34m\u001b[0m\u001b[0m\n\u001b[0m",
      "\u001b[0;32m~/src/conducto/super/public/python/conducto/pipeline.py\u001b[0m in \u001b[0;36mlaunch\u001b[0;34m(self, local, cloud, k8s, shell, app, retention, run, run_at, sleep_when_done, public)\u001b[0m\n\u001b[1;32m    918\u001b[0m             \u001b[0mrun_at\u001b[0m\u001b[0;34m=\u001b[0m\u001b[0mrun_at\u001b[0m\u001b[0;34m,\u001b[0m\u001b[0;34m\u001b[0m\u001b[0;34m\u001b[0m\u001b[0m\n\u001b[1;32m    919\u001b[0m             \u001b[0msleep_when_done\u001b[0m\u001b[0;34m=\u001b[0m\u001b[0msleep_when_done\u001b[0m\u001b[0;34m,\u001b[0m\u001b[0;34m\u001b[0m\u001b[0;34m\u001b[0m\u001b[0m\n\u001b[0;32m--> 920\u001b[0;31m             \u001b[0mpublic\u001b[0m\u001b[0;34m=\u001b[0m\u001b[0mpublic\u001b[0m\u001b[0;34m,\u001b[0m\u001b[0;34m\u001b[0m\u001b[0;34m\u001b[0m\u001b[0m\n\u001b[0m\u001b[1;32m    921\u001b[0m         )\n\u001b[1;32m    922\u001b[0m \u001b[0;34m\u001b[0m\u001b[0m\n",
      "\u001b[0;32m~/src/conducto/super/public/python/conducto/pipeline.py\u001b[0m in \u001b[0;36m_build_optim\u001b[0;34m(self, build_mode, shell, app, retention, run, run_at, sleep_when_done, public)\u001b[0m\n\u001b[1;32m    840\u001b[0m             \u001b[0muse_app\u001b[0m\u001b[0;34m=\u001b[0m\u001b[0mapp\u001b[0m\u001b[0;34m,\u001b[0m\u001b[0;34m\u001b[0m\u001b[0;34m\u001b[0m\u001b[0m\n\u001b[1;32m    841\u001b[0m             \u001b[0mretention\u001b[0m\u001b[0;34m=\u001b[0m\u001b[0mretention\u001b[0m\u001b[0;34m,\u001b[0m\u001b[0;34m\u001b[0m\u001b[0;34m\u001b[0m\u001b[0m\n\u001b[0;32m--> 842\u001b[0;31m             \u001b[0mis_public\u001b[0m\u001b[0;34m=\u001b[0m\u001b[0mpublic\u001b[0m\u001b[0;34m,\u001b[0m\u001b[0;34m\u001b[0m\u001b[0;34m\u001b[0m\u001b[0m\n\u001b[0m\u001b[1;32m    843\u001b[0m         )\n\u001b[1;32m    844\u001b[0m \u001b[0;34m\u001b[0m\u001b[0m\n",
      "\u001b[0;32m~/src/conducto/super/public/python/conducto/internal/build.py\u001b[0m in \u001b[0;36mbuild\u001b[0;34m(node, build_mode, use_shell, use_app, retention, is_public)\u001b[0m\n\u001b[1;32m    141\u001b[0m     \u001b[0mcloud\u001b[0m \u001b[0;34m=\u001b[0m \u001b[0mbuild_mode\u001b[0m \u001b[0;34m!=\u001b[0m \u001b[0mconstants\u001b[0m\u001b[0;34m.\u001b[0m\u001b[0mBuildMode\u001b[0m\u001b[0;34m.\u001b[0m\u001b[0mLOCAL\u001b[0m\u001b[0;34m\u001b[0m\u001b[0;34m\u001b[0m\u001b[0m\n\u001b[1;32m    142\u001b[0m \u001b[0;34m\u001b[0m\u001b[0m\n\u001b[0;32m--> 143\u001b[0;31m     \u001b[0mvalidate_tree\u001b[0m\u001b[0;34m(\u001b[0m\u001b[0mnode\u001b[0m\u001b[0;34m,\u001b[0m \u001b[0mcloud\u001b[0m\u001b[0;34m)\u001b[0m\u001b[0;34m\u001b[0m\u001b[0;34m\u001b[0m\u001b[0m\n\u001b[0m\u001b[1;32m    144\u001b[0m \u001b[0;34m\u001b[0m\u001b[0m\n\u001b[1;32m    145\u001b[0m     \u001b[0;32mif\u001b[0m \u001b[0mconstants\u001b[0m\u001b[0;34m.\u001b[0m\u001b[0mExecutionEnv\u001b[0m\u001b[0;34m.\u001b[0m\u001b[0mimages_only\u001b[0m\u001b[0;34m(\u001b[0m\u001b[0;34m)\u001b[0m\u001b[0;34m:\u001b[0m\u001b[0;34m\u001b[0m\u001b[0;34m\u001b[0m\u001b[0m\n",
      "\u001b[0;32m~/src/conducto/super/public/python/conducto/internal/build.py\u001b[0m in \u001b[0;36mvalidate_tree\u001b[0;34m(node, cloud, check_images, set_default)\u001b[0m\n\u001b[1;32m     99\u001b[0m     \u001b[0mnode\u001b[0m\u001b[0;34m.\u001b[0m\u001b[0mrepo\u001b[0m\u001b[0;34m.\u001b[0m\u001b[0mfinalize\u001b[0m\u001b[0;34m(\u001b[0m\u001b[0;34m)\u001b[0m\u001b[0;34m\u001b[0m\u001b[0;34m\u001b[0m\u001b[0m\n\u001b[1;32m    100\u001b[0m     \u001b[0;32mif\u001b[0m \u001b[0mcheck_images\u001b[0m\u001b[0;34m:\u001b[0m\u001b[0;34m\u001b[0m\u001b[0;34m\u001b[0m\u001b[0m\n\u001b[0;32m--> 101\u001b[0;31m         \u001b[0mnode\u001b[0m\u001b[0;34m.\u001b[0m\u001b[0mcheck_images\u001b[0m\u001b[0;34m(\u001b[0m\u001b[0;34m)\u001b[0m\u001b[0;34m\u001b[0m\u001b[0;34m\u001b[0m\u001b[0m\n\u001b[0m\u001b[1;32m    102\u001b[0m \u001b[0;34m\u001b[0m\u001b[0m\n\u001b[1;32m    103\u001b[0m     \u001b[0;32mif\u001b[0m \u001b[0mcloud\u001b[0m\u001b[0;34m:\u001b[0m\u001b[0;34m\u001b[0m\u001b[0;34m\u001b[0m\u001b[0m\n",
      "\u001b[0;32m~/src/conducto/super/public/python/conducto/pipeline.py\u001b[0m in \u001b[0;36mcheck_images\u001b[0;34m(self)\u001b[0m\n\u001b[1;32m    924\u001b[0m         \u001b[0;32mfor\u001b[0m \u001b[0mnode\u001b[0m \u001b[0;32min\u001b[0m \u001b[0mself\u001b[0m\u001b[0;34m.\u001b[0m\u001b[0mstream\u001b[0m\u001b[0;34m(\u001b[0m\u001b[0;34m)\u001b[0m\u001b[0;34m:\u001b[0m\u001b[0;34m\u001b[0m\u001b[0;34m\u001b[0m\u001b[0m\n\u001b[1;32m    925\u001b[0m             \u001b[0;32mif\u001b[0m \u001b[0misinstance\u001b[0m\u001b[0;34m(\u001b[0m\u001b[0mnode\u001b[0m\u001b[0;34m,\u001b[0m \u001b[0;34m(\u001b[0m\u001b[0mExec\u001b[0m\u001b[0;34m,\u001b[0m \u001b[0mNotebook\u001b[0m\u001b[0;34m)\u001b[0m\u001b[0;34m)\u001b[0m\u001b[0;34m:\u001b[0m\u001b[0;34m\u001b[0m\u001b[0;34m\u001b[0m\u001b[0m\n\u001b[0;32m--> 926\u001b[0;31m                 \u001b[0mnode\u001b[0m\u001b[0;34m.\u001b[0m\u001b[0mexpanded_command\u001b[0m\u001b[0;34m(\u001b[0m\u001b[0;34m)\u001b[0m\u001b[0;34m\u001b[0m\u001b[0;34m\u001b[0m\u001b[0m\n\u001b[0m\u001b[1;32m    927\u001b[0m \u001b[0;34m\u001b[0m\u001b[0m\n\u001b[1;32m    928\u001b[0m     \u001b[0;32mdef\u001b[0m \u001b[0mpretty\u001b[0m\u001b[0;34m(\u001b[0m\u001b[0mself\u001b[0m\u001b[0;34m,\u001b[0m \u001b[0mstrict\u001b[0m\u001b[0;34m=\u001b[0m\u001b[0;32mTrue\u001b[0m\u001b[0;34m)\u001b[0m\u001b[0;34m:\u001b[0m\u001b[0;34m\u001b[0m\u001b[0;34m\u001b[0m\u001b[0m\n",
      "\u001b[0;32m~/src/conducto/super/public/python/conducto/pipeline.py\u001b[0m in \u001b[0;36mexpanded_command\u001b[0;34m(self, strict)\u001b[0m\n\u001b[1;32m   1159\u001b[0m                 )\n\u001b[1;32m   1160\u001b[0m \u001b[0;34m\u001b[0m\u001b[0m\n\u001b[0;32m-> 1161\u001b[0;31m             \u001b[0;32mreturn\u001b[0m \u001b[0mre\u001b[0m\u001b[0;34m.\u001b[0m\u001b[0msub\u001b[0m\u001b[0;34m(\u001b[0m\u001b[0;34m\"__conducto_path:(.*?):endpath__\"\u001b[0m\u001b[0;34m,\u001b[0m \u001b[0mrepl\u001b[0m\u001b[0;34m,\u001b[0m \u001b[0mself\u001b[0m\u001b[0;34m.\u001b[0m\u001b[0mcommand\u001b[0m\u001b[0;34m)\u001b[0m\u001b[0;34m\u001b[0m\u001b[0;34m\u001b[0m\u001b[0m\n\u001b[0m\u001b[1;32m   1162\u001b[0m         \u001b[0;32melse\u001b[0m\u001b[0;34m:\u001b[0m\u001b[0;34m\u001b[0m\u001b[0;34m\u001b[0m\u001b[0m\n\u001b[1;32m   1163\u001b[0m             \u001b[0;32mreturn\u001b[0m \u001b[0mself\u001b[0m\u001b[0;34m.\u001b[0m\u001b[0mcommand\u001b[0m\u001b[0;34m\u001b[0m\u001b[0;34m\u001b[0m\u001b[0m\n",
      "\u001b[0;32m/usr/lib/python3.7/re.py\u001b[0m in \u001b[0;36msub\u001b[0;34m(pattern, repl, string, count, flags)\u001b[0m\n\u001b[1;32m    190\u001b[0m     \u001b[0ma\u001b[0m \u001b[0mcallable\u001b[0m\u001b[0;34m,\u001b[0m \u001b[0mit\u001b[0m\u001b[0;31m'\u001b[0m\u001b[0ms\u001b[0m \u001b[0mpassed\u001b[0m \u001b[0mthe\u001b[0m \u001b[0mMatch\u001b[0m \u001b[0mobject\u001b[0m \u001b[0;32mand\u001b[0m \u001b[0mmust\u001b[0m \u001b[0;32mreturn\u001b[0m\u001b[0;34m\u001b[0m\u001b[0;34m\u001b[0m\u001b[0m\n\u001b[1;32m    191\u001b[0m     a replacement string to be used.\"\"\"\n\u001b[0;32m--> 192\u001b[0;31m     \u001b[0;32mreturn\u001b[0m \u001b[0m_compile\u001b[0m\u001b[0;34m(\u001b[0m\u001b[0mpattern\u001b[0m\u001b[0;34m,\u001b[0m \u001b[0mflags\u001b[0m\u001b[0;34m)\u001b[0m\u001b[0;34m.\u001b[0m\u001b[0msub\u001b[0m\u001b[0;34m(\u001b[0m\u001b[0mrepl\u001b[0m\u001b[0;34m,\u001b[0m \u001b[0mstring\u001b[0m\u001b[0;34m,\u001b[0m \u001b[0mcount\u001b[0m\u001b[0;34m)\u001b[0m\u001b[0;34m\u001b[0m\u001b[0;34m\u001b[0m\u001b[0m\n\u001b[0m\u001b[1;32m    193\u001b[0m \u001b[0;34m\u001b[0m\u001b[0m\n\u001b[1;32m    194\u001b[0m \u001b[0;32mdef\u001b[0m \u001b[0msubn\u001b[0m\u001b[0;34m(\u001b[0m\u001b[0mpattern\u001b[0m\u001b[0;34m,\u001b[0m \u001b[0mrepl\u001b[0m\u001b[0;34m,\u001b[0m \u001b[0mstring\u001b[0m\u001b[0;34m,\u001b[0m \u001b[0mcount\u001b[0m\u001b[0;34m=\u001b[0m\u001b[0;36m0\u001b[0m\u001b[0;34m,\u001b[0m \u001b[0mflags\u001b[0m\u001b[0;34m=\u001b[0m\u001b[0;36m0\u001b[0m\u001b[0;34m)\u001b[0m\u001b[0;34m:\u001b[0m\u001b[0;34m\u001b[0m\u001b[0;34m\u001b[0m\u001b[0m\n",
      "\u001b[0;32m~/src/conducto/super/public/python/conducto/pipeline.py\u001b[0m in \u001b[0;36mrepl\u001b[0;34m(match)\u001b[0m\n\u001b[1;32m   1153\u001b[0m \u001b[0;34m\u001b[0m\u001b[0m\n\u001b[1;32m   1154\u001b[0m                 raise ValueError(\n\u001b[0;32m-> 1155\u001b[0;31m                     \u001b[0;34mf\"Node references local code but the Image doesn't have enough information to infer the corresponding path inside the container.\\n\"\u001b[0m\u001b[0;34m\u001b[0m\u001b[0;34m\u001b[0m\u001b[0m\n\u001b[0m\u001b[1;32m   1156\u001b[0m                     \u001b[0;34mf\"Expected '.copy_dir', '.copy_url' inside a Git directory, or 'path_map'.\"\u001b[0m\u001b[0;34m\u001b[0m\u001b[0;34m\u001b[0m\u001b[0m\n\u001b[1;32m   1157\u001b[0m                     \u001b[0;34mf\"  Node: {self}\\n\"\u001b[0m\u001b[0;34m\u001b[0m\u001b[0;34m\u001b[0m\u001b[0m\n",
      "\u001b[0;31mValueError\u001b[0m: Node references local code but the Image doesn't have enough information to infer the corresponding path inside the container.\nExpected '.copy_dir', '.copy_url' inside a Git directory, or 'path_map'.  Node: /\n  Image: {'name': 'gushy-ferroseed', 'image': 'ncbi/blast', 'dockerfile': None, 'dockerfile_text': None, 'docker_build_args': None, 'docker_auto_workdir': True, 'context': None, 'copy_repo': None, 'copy_dir': '.', 'copy_url': None, 'copy_branch': None, 'install_pip': ['pandas', 'biopython', 'conducto', 'jupyterlab', 'papermill', 'watchdog', 'ipdb', 'black'], 'install_npm': None, 'install_packages': None, 'install_docker': False, 'path_map': None, 'shell': '__auto__', 'instantiation_directory': '', 'reqs_py': ['pandas', 'biopython', 'conducto', 'jupyterlab', 'papermill', 'watchdog', 'ipdb', 'black'], 'reqs_npm': None, 'reqs_packages': None, 'reqs_docker': False}"
     ]
    }
   ],
   "source": [
    "root.launch()"
   ]
  },
  {
   "cell_type": "code",
   "execution_count": null,
   "id": "handy-defeat",
   "metadata": {},
   "outputs": [],
   "source": []
  }
 ],
 "metadata": {
  "kernelspec": {
   "display_name": "Python 3",
   "language": "python",
   "name": "python3"
  },
  "language_info": {
   "codemirror_mode": {
    "name": "ipython",
    "version": 3
   },
   "file_extension": ".py",
   "mimetype": "text/x-python",
   "name": "python",
   "nbconvert_exporter": "python",
   "pygments_lexer": "ipython3",
   "version": "3.7.3"
  }
 },
 "nbformat": 4,
 "nbformat_minor": 5
}
