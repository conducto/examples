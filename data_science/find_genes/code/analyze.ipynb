{
 "cells": [
  {
   "cell_type": "markdown",
   "id": "appropriate-parish",
   "metadata": {
    "papermill": {},
    "tags": []
   },
   "source": [
    "S288C is a well-studied strain of Saccharomyces Cerevisiae--brewer's yeast.\n",
    "This notebook explores whether the genes in S288C can be aligned with other yeast genomes (three of which are known to produce alcohol).\n",
    "\n",
    "Conducto injects the following parameters:\n",
    "- `datasets`: numbered or name genomes (see my_experiment.py)\n",
    "- `dir`: where to look for information about which genes were found\n",
    "\n",
    "It is expected that the previous pipeline nodes shelved a dict mapping genome names to data frames, one for each yeast species."
   ]
  },
  {
   "cell_type": "code",
   "execution_count": 1,
   "id": "printable-defendant",
   "metadata": {
    "papermill": {},
    "tags": [
     "parameters"
    ]
   },
   "outputs": [],
   "source": [
    "datasets = \"[0,1,2,3,4,5]\"\n",
    "dir = \"/conducto/data/pipeline\""
   ]
  },
  {
   "cell_type": "code",
   "execution_count": 2,
   "id": "selective-spectrum",
   "metadata": {
    "tags": [
     "injected-parameters"
    ]
   },
   "outputs": [],
   "source": [
    "# Command Line Parameters injected from papermill\n",
    "dir = \"/conducto/data/pipeline\"\n",
    "datasets = \"[1, 2, 3]\""
   ]
  },
  {
   "cell_type": "code",
   "execution_count": 3,
   "id": "educated-import",
   "metadata": {
    "papermill": {},
    "tags": []
   },
   "outputs": [
    {
     "name": "stdout",
     "output_type": "stream",
     "text": [
      "datasets: [1, 2, 3]\n",
      "in location: /conducto/data/pipeline\n"
     ]
    }
   ],
   "source": [
    "import json\n",
    "from pathlib import Path\n",
    "dataset_list = json.loads(datasets)\n",
    "data_dir = Path(dir)\n",
    "print(\"datasets:\",dataset_list)\n",
    "print(\"in location:\", dir)"
   ]
  },
  {
   "cell_type": "markdown",
   "id": "congressional-rebecca",
   "metadata": {},
   "source": [
    "Recover data into memory for analysis..."
   ]
  },
  {
   "cell_type": "code",
   "execution_count": 9,
   "id": "opposed-admission",
   "metadata": {
    "papermill": {},
    "tags": []
   },
   "outputs": [
    {
     "name": "stdout",
     "output_type": "stream",
     "text": [
      "dict_keys(['s_cerevisiae', 'b_bruxellensis', 'z_kombuchaensis'])\n"
     ]
    }
   ],
   "source": [
    "import shelve\n",
    "import my_experiment\n",
    "\n",
    "genomes = {}\n",
    "for dataset in dataset_list:\n",
    "    \n",
    "    # coerce to genome name if not already there\n",
    "    if not dataset in my_experiment.genome_files:\n",
    "        dataset = my_experiment.genome_names[int(dataset - 1)]\n",
    "    shelf_path = str(data_dir / dataset)\n",
    "    \n",
    "    # read it from disk\n",
    "    with shelve.open(shelf_path) as shelf:\n",
    "        genomes[dataset] = shelf['frame']\n",
    "        \n",
    "print(genomes.keys())"
   ]
  },
  {
   "cell_type": "code",
   "execution_count": 12,
   "id": "tutorial-deployment",
   "metadata": {},
   "outputs": [],
   "source": [
    "sacc = genomes['s_cerevisiae']\n",
    "brett = genomes['b_bruxellensis']\n",
    "booch = genomes['z_kombuchaensis']"
   ]
  },
  {
   "cell_type": "markdown",
   "id": "headed-century",
   "metadata": {},
   "source": [
    "We're searching for S. Cerevisiae genes in S. Cerevisiae.  This is our control variable.  We expect relatively many genes to have been found"
   ]
  },
  {
   "cell_type": "code",
   "execution_count": 23,
   "id": "baking-agent",
   "metadata": {
    "papermill": {},
    "tags": []
   },
   "outputs": [
    {
     "data": {
      "text/plain": [
       "6700"
      ]
     },
     "execution_count": 23,
     "metadata": {},
     "output_type": "execute_result"
    }
   ],
   "source": [
    "len(sacc.protein.unique())"
   ]
  },
  {
   "cell_type": "markdown",
   "id": "consecutive-perth",
   "metadata": {
    "papermill": {},
    "tags": []
   },
   "source": [
    "But what about Brettanomyces Bruxellensis (shows up in sours and other funky beer) and Zygosaccharomyces Kombuchaensis (kombucha yeast)?"
   ]
  },
  {
   "cell_type": "code",
   "execution_count": 24,
   "id": "quantitative-sterling",
   "metadata": {},
   "outputs": [
    {
     "name": "stdout",
     "output_type": "stream",
     "text": [
      "{'Brett': 98, 'Booch': 253}\n"
     ]
    }
   ],
   "source": [
    "print({\"Brett\" : len(brett.protein.unique()),\n",
    "       \"Booch\" : len(booch.protein.unique())})"
   ]
  },
  {
   "cell_type": "markdown",
   "id": "smooth-market",
   "metadata": {},
   "source": [
    "Ok so far so good.  We expected those to be lower.  Now let's look for genes we're familliar with.  ADH1 / YOL086C is involved in alcohol production.  All three of these yeasts are known to produce alcohol, so it's not crazy to expect that we found that gene thrice.\n",
    "\n",
    "Here's the gene we're looking for:"
   ]
  },
  {
   "cell_type": "code",
   "execution_count": 122,
   "id": "animal-metallic",
   "metadata": {},
   "outputs": [
    {
     "data": {
      "text/plain": [
       "'YOL086C ADH1 SGDID:S000005446, Chr XV from 160594-159548, Genome Release 64-2-1, reverse complement, Verified ORF, \"Alcohol dehydrogenase; fermentative isozyme active as homo- or heterotetramers; required for the reduction of acetaldehyde to ethanol, the last step in the glycolytic pathway; ADH1 has a paralog, ADH5, that arose from the whole genome duplication\"'"
      ]
     },
     "execution_count": 122,
     "metadata": {},
     "output_type": "execute_result"
    }
   ],
   "source": [
    "sacc[sacc['protein'] == 'YOL086C']['protein_desc'].values[0]"
   ]
  },
  {
   "cell_type": "code",
   "execution_count": 129,
   "id": "aggressive-terrain",
   "metadata": {},
   "outputs": [
    {
     "name": "stdout",
     "output_type": "stream",
     "text": [
      "Saccharomyces:S288C chromosome XV, complete sequence:160594,159548\n",
      "    Score 1047 (1934 bits), expectation 0.0e+00, alignment length 1047\n",
      "    Query:       1 ATGTCTATCCCAGAAACTCAAAAAGGTGTTATCTTCTACGAATCC...TAA 1047\n",
      "                   |||||||||||||||||||||||||||||||||||||||||||||...|||\n",
      "    Sbjct:  160594 ATGTCTATCCCAGAAACTCAAAAAGGTGTTATCTTCTACGAATCC...TAA 159548\n",
      "\n",
      "Saccharomyces:S288C chromosome XIII, complete sequence:874337,873291\n",
      "    Score 696 (1286 bits), expectation 0.0e+00, alignment length 1047\n",
      "    Query:       1 ATGTCTATCCCAGAAACTCAAAAAGGTGTTATCTTCTACGAATCC...TAA 1047\n",
      "                   |||||||| ||||||||||||||||   |||||||||||||||||...|||\n",
      "    Sbjct:  874337 ATGTCTATTCCAGAAACTCAAAAAGCCATTATCTTCTACGAATCC...TAA 873291\n",
      "\n",
      "Zygosaccharomyces:strain NRRL YB-4811 NODE_11_length_172022_cov_10.5353_ID_21, whole genome shotgun sequence:118199,119240\n",
      "    Score 403 (745 bits), expectation 0.0e+00, alignment length 1045\n",
      "    Query:       6 TATCCCAGAAACTCAAAAAGGTGTTATCTTCTACGAATCCCACGG...TAA 1047\n",
      "                   |||||||||||| || |||||| |||||||||||||  | |||||...|||\n",
      "    Sbjct:  118199 TATCCCAGAAACCCAGAAAGGTATTATCTTCTACGAGCCTCACGG...TAA 119240\n",
      "\n"
     ]
    }
   ],
   "source": [
    "from textwrap import indent\n",
    "def show_align(df, gene_id):\n",
    "    hits = df[df['protein'] == gene_id]\n",
    "    for row in hits[['species','locus','hsp']].itertuples():\n",
    "        print(f\"{row.species}:{row.locus}\")\n",
    "        print(indent(str(row.hsp), prefix=\"    \"))\n",
    "        print()\n",
    "\n",
    "for strain in [sacc, booch, brett]:\n",
    "    show_align(strain, \"YOL086C\")"
   ]
  },
  {
   "cell_type": "markdown",
   "id": "laughing-motel",
   "metadata": {},
   "source": [
    "Hmm, I know that it's not uncommon for the same gene to show up in multiple locations in the genome--so the two Saccharomyces hits aren't that suprising.\n",
    "\n",
    "And it would appear that Kombucha yeast also relies on ADH1 for alcohol production, but I'm supprised to find that it's not present in Brett.  Does this mean that Brett produces alcohol via some alternate metabolic pathway?  Or is my search perhaps too narrow?\n",
    "\n",
    "The protein description on ADH1 mentions a paralog: ADH5 (whose systemic name is YBR145W)"
   ]
  },
  {
   "cell_type": "code",
   "execution_count": 130,
   "id": "tested-cartridge",
   "metadata": {},
   "outputs": [
    {
     "name": "stdout",
     "output_type": "stream",
     "text": [
      "Saccharomyces:S288C chromosome II, complete sequence:533762,534817\n",
      "    Score 1056 (1951 bits), expectation 0.0e+00, alignment length 1056\n",
      "    Query:       1 ATGCCTTCGCAAGTCATTCCTGAAAAACAAAAGGCTATTGTCTTT...TGA 1056\n",
      "                   |||||||||||||||||||||||||||||||||||||||||||||...|||\n",
      "    Sbjct:  533762 ATGCCTTCGCAAGTCATTCCTGAAAAACAAAAGGCTATTGTCTTT...TGA 534817\n",
      "\n"
     ]
    }
   ],
   "source": [
    "for strain in [sacc, booch, brett]:\n",
    "    show_align(strain, \"YBR145W\")"
   ]
  },
  {
   "cell_type": "markdown",
   "id": "accurate-contact",
   "metadata": {},
   "source": [
    "I supose I shouldn't be suprised that I didn't find it, paralogs are transcriptions of a gene within the same species.  I think what I'm after is an ortholog--which is genes for the same purpose but in different species.  Not sure what conclusions to draw here."
   ]
  }
 ],
 "metadata": {
  "celltoolbar": "Tags",
  "kernelspec": {
   "display_name": "Python 3",
   "language": "python",
   "name": "python3"
  },
  "language_info": {
   "codemirror_mode": {
    "name": "ipython",
    "version": 3
   },
   "file_extension": ".py",
   "mimetype": "text/x-python",
   "name": "python",
   "nbconvert_exporter": "python",
   "pygments_lexer": "ipython3",
   "version": "3.7.3"
  },
  "papermill": {
   "default_parameters": {},
   "environment_variables": {},
   "input_path": "analyze.ipynb",
   "output_path": "analyze.ipynb",
   "parameters": {
    "datasets": "[1, 2, 3]",
    "dir": "/conducto/data/pipeline"
   },
   "version": "2.3.2"
  }
 },
 "nbformat": 4,
 "nbformat_minor": 5
}
