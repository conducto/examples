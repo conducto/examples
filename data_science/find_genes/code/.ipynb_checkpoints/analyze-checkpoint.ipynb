{
 "cells": [
  {
   "cell_type": "markdown",
   "id": "expected-chicago",
   "metadata": {},
   "source": [
    "S288C is a well-studied strain of Sacromyces Cerevisiae--brewer's yeast.\n",
    "This notebook explores whether the genes in S288C can be aligned with other yeast genomes (three of which are known to produce alcohol).\n",
    "\n",
    "Parameters:\n",
    "- `datasets`: numbered or name genomes (see my_experiment.py)\n",
    "- `dir`: where to look for information about which genes were found"
   ]
  },
  {
   "cell_type": "code",
   "execution_count": 25,
   "id": "hearing-canberra",
   "metadata": {
    "tags": [
     "parameters"
    ]
   },
   "outputs": [],
   "source": [
    "datasets = \"[0,1,2,3,4,5]\"\n",
    "dir = \"/conducto/data/pipeline\""
   ]
  },
  {
   "cell_type": "code",
   "execution_count": 26,
   "id": "interim-shape",
   "metadata": {},
   "outputs": [
    {
     "name": "stdout",
     "output_type": "stream",
     "text": [
      "datasets: [0, 1, 2, 3, 4, 5]\n",
      "in location: /conducto/data/pipeline\n"
     ]
    }
   ],
   "source": [
    "import json\n",
    "dataset_list = json.loads(datasets)\n",
    "print(\"datasets:\",dataset_list)\n",
    "print(\"in location:\", dir)"
   ]
  },
  {
   "cell_type": "code",
   "execution_count": 27,
   "id": "funded-employer",
   "metadata": {},
   "outputs": [
    {
     "name": "stdout",
     "output_type": "stream",
     "text": [
      "s_cerevisiae\n",
      "b_bruxellensis\n",
      "z_kombuchaensis\n",
      "d_albidus\n",
      "c_parapsilosos\n",
      "s_bombicola\n"
     ]
    }
   ],
   "source": [
    "import shelve\n",
    "import my_experiment\n",
    "\n",
    "genomes = {}\n",
    "for dataset in dataset_list:\n",
    "    \n",
    "    # coerce to genome name if not already there\n",
    "    if not dataset in my_experiment.genome_files:\n",
    "        dataset = my_experiment.genome_names[int(dataset)]\n",
    "        print(dataset)"
   ]
  },
  {
   "cell_type": "code",
   "execution_count": null,
   "id": "interim-cabinet",
   "metadata": {},
   "outputs": [],
   "source": []
  }
 ],
 "metadata": {
  "celltoolbar": "Tags",
  "kernelspec": {
   "display_name": "Python 3",
   "language": "python",
   "name": "python3"
  },
  "language_info": {
   "codemirror_mode": {
    "name": "ipython",
    "version": 3
   },
   "file_extension": ".py",
   "mimetype": "text/x-python",
   "name": "python",
   "nbconvert_exporter": "python",
   "pygments_lexer": "ipython3",
   "version": "3.7.3"
  }
 },
 "nbformat": 4,
 "nbformat_minor": 5
}
